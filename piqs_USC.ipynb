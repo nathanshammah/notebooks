{
 "cells": [
  {
   "cell_type": "markdown",
   "metadata": {},
   "source": [
    "## Driven-dissipative Ultrastrong Coupling QED Dynamics of Many Two-Level Systems\n",
    "We consider the Hamiltonian of an ensemble of two-level systems (TLSs) \n",
    "\\begin{eqnarray}\n",
    "H_\\text{sys} &=& \\sum_{n=1}^N w_q \\frac{1}{2}\\sigma_{z,n} + w_\\text{cav}a^\\dagger a +\\lambda \\sigma_{x,n}\\left(a+a^\\dagger\\right)\n",
    "\\end{eqnarray}\n",
    "with an arbitrary value of $\\lambda>0$, including $\\lambda>0.1$, i.e. the light-matter interaction can be in the ultrastrong coupling (USC) regime. \n",
    "The eigenstes of $H_\\text{sys}$ in the USC regime are light-matter dressed states. \n",
    "A more general open quantum dynamics can be considered by introducing incoherent driving and dissipation. \n",
    "The form of the corresponding master equation depends on the regime the system is in. \n",
    "\n",
    "In the weak and strong coupling regime, the dynamics is given by \n",
    "\\begin{eqnarray}\n",
    "\\dot{\\rho} &=& -\\frac{i}{\\hbar} \\lbrack H_\\text{sys}, \\rho\\rbrack + \\sum_{n=1}^N \\left(\\gamma_\\text{E}\\mathcal{L}_{\\sigma_{-,n}}[\\rho]\n",
    "+\\gamma_\\text{D}\\mathcal{L}_{\\sigma_{z,n}/2}[\\rho]\n",
    "+\\gamma_\\text{P}\\mathcal{L}_{\\sigma_{+,n}}[\\rho]\\right)\n",
    "+ \\kappa\\mathcal{L}_{a}[\\rho] + w\\mathcal{L}_{a^\\dagger}[\\rho],\n",
    "\\end{eqnarray}\n",
    "where the term in $\\gamma_\\text{E}$ gives local emission, $\\gamma_\\text{D}$ dephasing, $\\gamma_\\text{P}$ incoherent (spin) pumping, and the photonic losses and pumping terms are proportional to $\\kappa$ and $w$, respectively. $\\mathcal{L}_{X}(\\rho)=X\\rho X^\\dagger -\\frac{1}{2}X^\\dagger X\\rho -\\frac{1}{2}\\rho X^\\dagger X$.\n",
    "\n",
    "\n",
    "In the USC regime, the above equation leads to unphysical results. The eigenvectors forming the jump operators of the Lindbladian superoperators must be constructed themselves using the eigenvectors $|j\\rangle$ of the full light-matter Hamiltonian $H_\\text{sys}$.\n",
    "We thus consider the following USC master equation (ME) for $N=1$ TLS,\n",
    "\\begin{eqnarray}\n",
    "\\dot{\\rho} &=& -\\frac{i}{\\hbar} \\lbrack H_\\text{sys}, \\rho\\rbrack + \\text{Lindbladians in the USC regime}.\n",
    "\\end{eqnarray}\n",
    "\n",
    "One way of rewriting the master equation in the USC is given in Ref. [2] and reads (for $gamma_\\text{P}=0$)\n",
    "\n",
    "\\begin{eqnarray}\n",
    "\\dot{\\rho} &=& -\\frac{i}{\\hbar} \\lbrack H'_\\text{sys}, \\rho\\rbrack \n",
    "+\\mathcal{L}_{X_\\phi}[\\rho] \n",
    "+\\sum_{j,k\\neq j}\\Gamma_\\phi^{jk}\\mathcal{L}_{|j\\rangle\\langle k|}[\\rho]\n",
    "+\\sum_{j,k> j}\\left(\\Gamma_\\kappa^{jk}+\\Gamma_\\gamma^{jk}\\right)\\mathcal{L}_{|j\\rangle\\langle k|}[\\rho]\n",
    "\\end{eqnarray}\n",
    "where $H'_\\text{sys}$ includes the Lamb shift. The terms relative to dephasing are those in $X_\\phi$ and $\\Gamma_\\phi^{jk}$. There $X_\\phi = \\sum_j \\Phi^j |j\\rangle\\langle j|$.\n",
    "\n",
    "The terms relative to incoherent emission and photonic emission are those in $\\Gamma_\\kappa^{jk}$ and $\\Gamma_\\gamma^{jk}$, respectively.  \n",
    "\n",
    "We have that the rates for the dressed superoperators are \n",
    "\\begin{eqnarray}\n",
    "(\\Phi^j)^2 &=& \\frac{1}{2}\\gamma_\\phi(0)|\\sigma_x^{jj}|^2\\\\\n",
    "\\Gamma_\\phi^{jk} &=& \\frac{1}{2}\\gamma_\\phi(\\Delta_{kj})|\\sigma_x^{jk}|^2\\\\\n",
    "\\Gamma_\\gamma^{jk} &=& \\gamma(\\Delta_{kj})|\\sigma_x^{jk}|^2\\\\\n",
    "\\Gamma_\\kappa^{jk} &=& \\kappa(\\Delta_{kj})|X^{jk}|^2\\\\\n",
    "\\end{eqnarray}\n",
    "with the results of the operators collapse from the undressed to the dressed basis given by \n",
    "\\begin{eqnarray}\n",
    "\\sigma_\\alpha^{jk}&= \\langle j|\\sigma_\\alpha|k\\rangle\\\\ \n",
    "X^{jk}&= \\langle j|(a+a^\\dagger)|k\\rangle\n",
    "\\end{eqnarray}\n",
    "with $\\alpha = x,y,z$ and $\\Delta_{kj}$ is the eigenstates energy difference. Here $\\gamma_\\phi(\\omega)$, $\\gamma(\\omega)$ and $\\kappa(\\omega)$ are the rates corresponding to the spectral density of frequency $\\omega$, although in the following we assume that the structure of the baths appearing in the spectral densities can be neglected. We also neglect the Lamb shift.\n",
    "\n",
    "In the case in which $N$ TLSs are present, the Liouvillian space grows as $4^N\\cdot n_\\text{cav}^2$ where $n_\\text{cav}$ is the cutoff of the number of photons in the photonic Hilbert space. \n",
    "\n",
    "Here we exploit permutational invariance of the spins [4] to reduce the size of the total Liouvillian in the USC regime from $4^N\\cdot n_\\text{cav}^2$ to only $N^4\\cdot n_\\text{cav}^2$. We avoid writing explicitly the local spin operators $\\sigma_{\\alpha,n}$ with $\\alpha=\\{x,y,z, +, -\\}$ by projecting the USC Lindbladian onto the constructed permutational invariant Lindbladian superoperators in the undressed basis [5].\n",
    "\n",
    "\n",
    "We will compare this reconstruction method to obtain the USC driven-dissipative time evolution. The results are obtained exploiting $\\texttt{mesolve}$, QuTiP's master equation solver [6].\n",
    "\n",
    "Notice that the description of the USC dynamics has been generalized in Ref. [3] to include non-Markovian effects. Also, the approach followed here might not be appropriate for harmonic Hamiltonians $H_\\text{sys}$."
   ]
  },
  {
   "cell_type": "code",
   "execution_count": 1,
   "metadata": {},
   "outputs": [],
   "source": [
    "from time import clock\n",
    "from qutip import *\n",
    "from qutip.models.piqs import *\n",
    "from qutip.models.piqs import Dicke as Piqs\n",
    "from qutip import operator_to_vector as op2vec\n",
    "import matplotlib.pyplot as plt\n",
    "% matplotlib inline\n",
    "from scipy import constants"
   ]
  },
  {
   "cell_type": "markdown",
   "metadata": {},
   "source": [
    "## 1) Case $N=1$: Single TLS"
   ]
  },
  {
   "cell_type": "markdown",
   "metadata": {},
   "source": [
    "### General parameters"
   ]
  },
  {
   "cell_type": "code",
   "execution_count": 59,
   "metadata": {},
   "outputs": [
    {
     "name": "stdout",
     "output_type": "stream",
     "text": [
      "T:  0.0  n0:  0.0\n",
      "T phot:  0.0  n0 phot:  0.0\n",
      "gamma:  1.0\n",
      "pump:  0.0\n",
      "dephasing:  0.0\n",
      "kappa:  1.0\n",
      "photon_pump:  0.0\n",
      "Calculating USC Hamiltonian spectrum...\n",
      "_Calculated USC Hamiltonian spectrum.\n"
     ]
    }
   ],
   "source": [
    "# normal USC master equation\n",
    "wq = 1.0     # Energy of the 2-level system.\n",
    "n_tls = 1\n",
    "Ncav = 3\n",
    "lam = 0.2\n",
    "wcav = 1\n",
    "matrixsize = 2**n_tls * Ncav\n",
    "\n",
    "#Spin Bath\n",
    "# Bose-Einstein distribution determines the occupation number\n",
    "frequency_hertz = 10**(13)\n",
    "temperature_kelvin = 0.* 10**(2)\n",
    "if temperature_kelvin != 0:\n",
    "    x = (frequency_hertz / temperature_kelvin) * (constants.hbar / constants.Boltzmann)\n",
    "    n0 = 1/(np.exp(x) -1)\n",
    "else:\n",
    "    n0 = 0.\n",
    "print(\"T: \",temperature_kelvin, \" n0: \",n0)\n",
    "# set collective pumping and collective emission rates (coupled ensembles) \n",
    "g0 = 1\n",
    "gamma0 = g0 * (1 + n0)\n",
    "pump0 = g0 * n0\n",
    "\n",
    "#Photon Bath\n",
    "# Bose-Einstein distribution determines the occupation number\n",
    "frequency_hertz_phot = 5*10**(13)\n",
    "temperature_kelvin_phot = 0.*10**(2)\n",
    "if temperature_kelvin_phot != 0:\n",
    "    x_phot = (frequency_hertz_phot / temperature_kelvin_phot) * (constants.hbar / constants.Boltzmann)\n",
    "    n0_phot = 1/(np.exp(x_phot) -1)\n",
    "else:\n",
    "    n0_phot = 0.\n",
    "    \n",
    "print(\"T phot: \",temperature_kelvin_phot, \" n0 phot: \",n0_phot)\n",
    "# set collective pumping and collective emission rates (coupled ensembles) \n",
    "g0_phot = 1\n",
    "kappa0 = g0_phot * (1 + n0_phot)\n",
    "photon_pump0 = g0_phot * n0_phot\n",
    "\n",
    "# driven dissipative parameters (in the undressed basis)\n",
    "gamma = gamma0 #local emission\n",
    "dephasing = 0. #local dephasing\n",
    "pump =  pump0 #local pumping\n",
    "kappa = kappa0 #photon emission\n",
    "photon_pump = photon_pump0 #photon pumping\n",
    "\n",
    "# print to screen the undressed rates\n",
    "print(\"gamma: \", gamma)\n",
    "print(\"pump: \", pump)\n",
    "print(\"dephasing: \", dephasing)\n",
    "print(\"kappa: \", kappa)\n",
    "print(\"photon_pump: \", photon_pump)\n",
    "\n",
    "# place operators in tensor Hilbert space\n",
    "sx = tensor(sigmax(),qeye(Ncav))\n",
    "sm = tensor(destroy(2).dag(),qeye(Ncav))\n",
    "sp = sm.dag()\n",
    "sz = tensor(sigmaz(),qeye(Ncav))\n",
    "a = tensor(qeye(2),destroy(Ncav))\n",
    "\n",
    "# total light-matter Hamiltonian\n",
    "Hsys = 0.5 * wq * sz + wcav*a.dag()*a +lam*sx *(a + a.dag())\n",
    "\n",
    "# initial state\n",
    "psi0_phot = basis(Ncav,0) #non-excited cavity (ground state)\n",
    "psi0_tls = basis(2,1) #non-excited TLS (ground state)\n",
    "psi0 = tensor(psi0_tls, psi0_phot)\n",
    "\n",
    "# find eigenvalues and eigenstates\n",
    "print(\"Calculating USC Hamiltonian spectrum...\")\n",
    "h_vals, h_vec = Hsys.eigenstates()\n",
    "print(\"_Calculated USC Hamiltonian spectrum.\")\n",
    "\n",
    "# Options for the time-integration solvers\n",
    "#tmax = 8000\n",
    "tmax = 10\n",
    "nt = 1000\n",
    "tlist = np.linspace(0, tmax, nt)\n",
    "options = Options(nsteps=15000, store_states=True, atol=1e-13, rtol=1e-13)"
   ]
  },
  {
   "cell_type": "markdown",
   "metadata": {},
   "source": [
    "### 1.a) Case $N=1$: Dressed basis, standard USC Liouvillian"
   ]
  },
  {
   "cell_type": "code",
   "execution_count": 60,
   "metadata": {},
   "outputs": [
    {
     "name": "stdout",
     "output_type": "stream",
     "text": [
      "Calculating USC Lindbladian...\n",
      "Calculated USC Lindbladian.\n",
      "time:  0.005338000000000065\n"
     ]
    }
   ],
   "source": [
    "# build the USC Lindbladian for N=1 with dressed collapse operators\n",
    "c_ops = []\n",
    "op_deph = []\n",
    "clock_t0 = clock()\n",
    "\n",
    "# two nested cycles to calculate the USC collapse operators besides for local dephasing\n",
    "print(\"Calculating USC Lindbladian...\")\n",
    "for j in range(matrixsize):\n",
    "    for k in range(j+1,matrixsize):\n",
    "        # local emission (USC)\n",
    "        if gamma != 0:\n",
    "            rate = gamma*((sm).matrix_element(h_vec[j],h_vec[k]))**2\n",
    "            if np.real(rate) > 0. :            \n",
    "                c_ops.append(np.sqrt(rate) * h_vec[j]* h_vec[k].dag())\n",
    "        # local pumping (USC)\n",
    "        if pump != 0:\n",
    "            rate = pump*((sp).matrix_element(h_vec[j],h_vec[k]))**2\n",
    "            if np.real(rate) > 0. :            \n",
    "                c_ops.append(np.sqrt(rate) * h_vec[k]* h_vec[j].dag())         \n",
    "        # photon emission (USC)\n",
    "        if kappa != 0:\n",
    "            rate = kappa*((a).matrix_element(h_vec[j],h_vec[k]))**2\n",
    "            if np.real(rate) > 0. :            \n",
    "                c_ops.append(np.sqrt(rate) * h_vec[j]* h_vec[k].dag())\n",
    "        # photon pump\n",
    "        if photon_pump != 0:\n",
    "            rate = photon_pump*((a.dag()).matrix_element(h_vec[j],h_vec[k]))**2\n",
    "            if np.real(rate) > 0. :            \n",
    "                c_ops.append(np.sqrt(rate) * h_vec[k]* h_vec[j].dag())\n",
    "                \n",
    "# calculate the local dephasing (USC) as a Lindbladian plus collapse operators\n",
    "if dephasing != 0:\n",
    "    print(\"Calculating dephasing USC Lindbladian...\")\n",
    "    # First part of the dephasing Lindbladian (sum of diagonal terms)\n",
    "    ops_dephasing = []\n",
    "    for j in range(matrixsize):\n",
    "        rate = np.sqrt(dephasing/2.)*((sz).matrix_element(h_vec[j],h_vec[j]))\n",
    "        if np.real(rate) > 0. :            \n",
    "            ops_dephasing.append(rate*h_vec[j]*h_vec[j].dag())\n",
    "    ops_dephasing = np.sum(ops_dephasing)\n",
    "    c_ops.append(ops_dephasing)\n",
    "    # Second part of the dephasing Lindbladian (non-diagonal terms)\n",
    "    for j in range(matrixsize):\n",
    "        for k in range(matrixsize):\n",
    "            if k != j:\n",
    "                rate = dephasing*((sz/2.).matrix_element(h_vec[j],h_vec[k]))**2\n",
    "                if np.real(rate) > 0. :            \n",
    "                    c_ops.append(np.sqrt(rate)*h_vec[j]*h_vec[k].dag())                         \n",
    "    print(\"_Calculated dephasing USC Lindbladian.\")\n",
    "print(\"Calculated USC Lindbladian.\")\n",
    "clock_tf = clock()\n",
    "dt_clock = clock_tf - clock_t0\n",
    "print(\"time: \",dt_clock)\n",
    "L_usc = liouvillian(Hsys,c_ops)"
   ]
  },
  {
   "cell_type": "code",
   "execution_count": 61,
   "metadata": {},
   "outputs": [],
   "source": [
    "# Solver\n",
    "output = mesolve(Hsys, psi0, tlist, c_ops, [sz, sm.dag(), a.dag()*a], options=options)\n",
    "szt = output.expect[0]\n",
    "spt = output.expect[1]\n",
    "nphott = output.expect[2]\n",
    "\n",
    "# Solver\n",
    "output_ = mesolve(L_usc, psi0, tlist, [], [sz, sm.dag(),a.dag()*a], options=options)\n",
    "szt_ = output_.expect[0]\n",
    "spt_ = output_.expect[1]\n",
    "nphott_ = output_.expect[2]"
   ]
  },
  {
   "cell_type": "markdown",
   "metadata": {},
   "source": [
    "### 1.b) Case $N=1$: Undressed basis, non-USC Liouvillian"
   ]
  },
  {
   "cell_type": "code",
   "execution_count": 62,
   "metadata": {},
   "outputs": [],
   "source": [
    "# calculate the undressed collapse operators\n",
    "c_ops_undressed = []\n",
    "c_ops_undressed.append(np.sqrt(gamma)*sm)\n",
    "c_ops_undressed.append(np.sqrt(pump)*sp)\n",
    "c_ops_undressed.append(np.sqrt(dephasing)*sz)\n",
    "c_ops_undressed.append(np.sqrt(kappa)*a)\n",
    "c_ops_undressed.append(np.sqrt(photon_pump)*a.dag())\n",
    "\n",
    "# build the total undressed Liouvillian\n",
    "Ltot = liouvillian(Hsys, c_ops_undressed)\n",
    "# build the single undressed Liouvillians for the reconstruction of the USC one\n",
    "Lgamma = liouvillian(0.*Hsys, [np.sqrt(gamma)*sm])\n",
    "Lpump = liouvillian(0.*Hsys, [np.sqrt(pump)*sp])\n",
    "Ldeph = liouvillian(0.*Hsys, [np.sqrt(dephasing)*sz]) \n",
    "Lkappa = liouvillian(0.*Hsys, [np.sqrt(kappa)*a])\n",
    "Lphoton_pump = liouvillian(0.*Hsys, [np.sqrt(photon_pump)*a.dag()])\n",
    "\n",
    "\n",
    "undressed_steady = steadystate(Ltot)\n",
    "undressed_steady_energy = expect(sz, undressed_steady)\n",
    "undressed_steady_energy_phot = expect(a.dag()*a, undressed_steady)\n",
    "# find the local operator solution \n",
    "output2 = mesolve(Ltot, psi0, tlist, [], [sz, sm.dag(),a.dag()*a], options=options)\n",
    "szt2 = output2.expect[0]\n",
    "spt2 = output2.expect[1]\n",
    "nphott2 = output2.expect[2]"
   ]
  },
  {
   "cell_type": "markdown",
   "metadata": {},
   "source": [
    "\n",
    "### 1.c) Case $N=1$: Dressed basis,  USC Liouvillian reconstructed from the non-USC Liouvillian"
   ]
  },
  {
   "cell_type": "code",
   "execution_count": 114,
   "metadata": {},
   "outputs": [
    {
     "name": "stdout",
     "output_type": "stream",
     "text": [
      "_Calculating reconstructed USC Lindbladian...\n",
      "Calculating dephasing from reconstructed USC Lindbladian...\n",
      "_Calculated dephasing from reconstructed USC Lindbladian.\n",
      "_Calculated reconstructed USC Lindbladian.\n"
     ]
    }
   ],
   "source": [
    "## Form a set of projectors into all eigenstates \n",
    "# We assume we have a lindblad for c_ops_undressed = [sigma_-, sigma_+, sigma_z, a, a.dag()]\n",
    "# We project out terms which do not conserve energy\n",
    "\n",
    "c_ops_true = []\n",
    "\n",
    "print(\"_Calculating reconstructed USC Lindbladian...\")\n",
    "for j in range(matrixsize):\n",
    "    for k in range(j+1, matrixsize):\n",
    "        vec_rho_jj = op2vec(h_vec[j] * h_vec[j].dag())\n",
    "        vec_rho_kk = op2vec(h_vec[k] * h_vec[k].dag())\n",
    "        if gamma != 0:\n",
    "            # local emission (reconstructed USC)\n",
    "            overlap_coll = (vec_rho_jj.dag() * Lgamma * vec_rho_kk).data[0,0]\n",
    "            c_ops_true.append(np.sqrt(overlap_coll) * h_vec[j] * h_vec[k].dag())\n",
    "        if pump != 0:\n",
    "            # local pump (reconstructed USC)\n",
    "            overlap_coll = (vec_rho_jj.dag() * Lpump * vec_rho_kk).data[0,0]\n",
    "            c_ops_true.append(np.sqrt(overlap_coll) * h_vec[k] * h_vec[j].dag())\n",
    "        if kappa != 0:\n",
    "            # photon emission (reconstructed USC)\n",
    "            overlap_coll = (vec_rho_jj.dag() * Lkappa * vec_rho_kk).data[0,0]\n",
    "            c_ops_true.append(np.sqrt(overlap_coll) * h_vec[j] * h_vec[k].dag())\n",
    "        if photon_pump != 0:\n",
    "            # photon pump (reconstructed USC)\n",
    "            overlap_coll = (vec_rho_jj.dag() * Lphoton_pump * vec_rho_kk).data[0,0]            \n",
    "            c_ops_true.append(np.sqrt(overlap_coll) * h_vec[k] * h_vec[j].dag())\n",
    "            \n",
    "# Local dephasing (reconstructed USC)\n",
    "# We divide the local dephasing in three terms:\n",
    "# - The first term is a Lindbladian diagonal in the dressed basis.\n",
    "# - The second term is in Lindbladian form and is off-diagonal in the dressed basis\n",
    "# - The third term is not in Lindbladian form and is off-diagonal in the dressed basis\n",
    "# The third term will be written directly as a matrix in the Liouvillian space\n",
    "\n",
    "if dephasing != 0:\n",
    "    ops_dephasing =[]\n",
    "    print(\"Calculating dephasing from reconstructed USC Lindbladian...\")\n",
    "    #first part of the dephasing Lindbladian (sum of diagonal terms)\n",
    "    ops_dephasing_rec = []\n",
    "    for j in range(matrixsize):\n",
    "        for k in range(matrixsize):\n",
    "            vec_rho_jj = op2vec(h_vec[j] * h_vec[j].dag())\n",
    "            vec_rho_kk = op2vec(h_vec[k] * h_vec[k].dag())\n",
    "            vec_rho_jk = op2vec(h_vec[j] * h_vec[k].dag())            \n",
    "            overlap_coll = (vec_rho_jj.dag() * Ldeph * vec_rho_kk).data[0,0]\n",
    "            if j == k:\n",
    "                # First term (diagonal)\n",
    "                c_ops_true.append(np.sqrt(2*n_tls+overlap_coll)*h_vec[j]*h_vec[j].dag())                \n",
    "            if j != k:\n",
    "                # Second term (off-diagonal)\n",
    "                c_ops_true.append(np.sqrt(overlap_coll) * h_vec[j] * h_vec[k].dag())\n",
    "                # Third term (off-diagonal, non-Lindblad)\n",
    "                overlap_coll3 = (vec_rho_jk.dag() * Ldeph * vec_rho_jk).data[0,0]\n",
    "                ops_dephasing.append(np.sqrt(2*n_tls+overlap_coll3)*h_vec[j]*h_vec[k].dag())\n",
    "    superop_dephasing = spre(sum(ops_dephasing))\n",
    "    print(\"_Calculated dephasing from reconstructed USC Lindbladian.\")\n",
    "liouv_usc_rec = liouvillian(Hsys, c_ops_true)\n",
    "if dephasing != 0:\n",
    "    liouv_usc_rec = liouv_usc_rec + superop_dephasing\n",
    "print(\"_Calculated reconstructed USC Lindbladian.\")"
   ]
  },
  {
   "cell_type": "code",
   "execution_count": 65,
   "metadata": {},
   "outputs": [],
   "source": [
    "# Find the reconstructed USC superoperator solution\n",
    "output3 = mesolve(liouv_usc_rec, psi0, tlist, [], \n",
    "                  [sz, sm.dag(),a.dag()*a],options=options)\n",
    "szt3 = output3.expect[0]\n",
    "spt3 = output3.expect[1]\n",
    "nphott3 = output3.expect[2]\n",
    "\n",
    "if c_ops_true == []:\n",
    "    steady_reconstructed = ket2dm(h_vec[0])\n",
    "    \n",
    "else:\n",
    "    steady_reconstructed = steadystate(Hsys, c_ops_true)\n",
    "steady_reconstructed_energy = expect(steady_reconstructed,sz)\n",
    "steady_reconstructed_phot = expect(steady_reconstructed,a.dag()*a)\n",
    "# Make lists for the time plots\n",
    "undressed_steady_list = [undressed_steady_energy for i in tlist]\n",
    "undressed_steady_list_phot = [undressed_steady_energy_phot for i in tlist]\n",
    "steady_reconstructed_list = [steady_reconstructed_energy for i in tlist]\n",
    "steady_reconstructed_list_phot = [steady_reconstructed_phot for i in tlist]\n",
    "gstate = [expect(h_vec[0]*h_vec[0].dag(),sz) for t in tlist]\n",
    "gstate_phot = [expect(h_vec[0]*h_vec[0].dag(),a.dag()*a) for t in tlist]"
   ]
  },
  {
   "cell_type": "markdown",
   "metadata": {},
   "source": [
    "#### Visualization: Comparing time evolutions for $N=1$"
   ]
  },
  {
   "cell_type": "code",
   "execution_count": 83,
   "metadata": {},
   "outputs": [
    {
     "data": {
      "image/png": "[encoded data removed]",
      "text/plain": [
       "<matplotlib.figure.Figure at 0x1a1b43fb70>"
      ]
     },
     "metadata": {},
     "output_type": "display_data"
    },
    {
     "data": {
      "image/png": "[encoded data removed]",
      "text/plain": [
       "<matplotlib.figure.Figure at 0x1a1b8b6710>"
      ]
     },
     "metadata": {},
     "output_type": "display_data"
    },
    {
     "data": {
      "image/png": "[encoded data removed]",
      "text/plain": [
       "<matplotlib.figure.Figure at 0x1a1d2156d8>"
      ]
     },
     "metadata": {},
     "output_type": "display_data"
    }
   ],
   "source": [
    "lw = 2\n",
    "label_size = 20\n",
    "gamma_string = np.round(gamma,2)\n",
    "pump_string = np.round(pump,2)\n",
    "deph_string = np.round(dephasing,2)\n",
    "kappa_string = np.round(kappa,2)\n",
    "pumpp_string = np.round(photon_pump,2)\n",
    "\n",
    "plt.rc('text', usetex = True)\n",
    "plt.rc('xtick', labelsize=label_size) \n",
    "plt.rc('ytick', labelsize=label_size)\n",
    "\n",
    "# Figure 1 -- Spin Inversion\n",
    "fig, axes = plt.subplots(1, 1, sharex=True, figsize=(10, 8))\n",
    "axes.plot(tlist, szt, 'c', linewidth = 2*lw, label = \"USC ME\")\n",
    "axes.plot(tlist, szt2, 'g-o', linewidth = lw, label = \"Undressed Lindbladian ME\")\n",
    "axes.plot(tlist, szt3, 'r--', linewidth = lw, label = \"Reconstructed USC ME\")\n",
    "axes.plot(tlist, gstate, 'y--', linewidth = 4*lw, label = \"USC Ground State\")\n",
    "axes.plot(tlist, undressed_steady_list, 'k--', \n",
    "          linewidth = lw, label = \"Undressed Steady State\")\n",
    "axes.plot(tlist, steady_reconstructed_list, 'b--', \n",
    "          linewidth = lw, label = \"Dressed Reconstructed Steady State\")\n",
    "\n",
    "plt.xlabel(r'$t$', fontsize=label_size)\n",
    "plt.ylabel(r'$\\langle \\sigma_z\\rangle$', fontsize=label_size)\n",
    "axes.legend(fontsize=label_size*0.6)\n",
    "plt.title(r'USC, $N={}$, $\\gamma_\\downarrow={}$, $\\gamma_\\uparrow={}$, $\\gamma_\\phi={}$, $\\kappa={}$, $w={}$'\n",
    "          .format(1,gamma_string,pump_string,deph_string,kappa_string,pumpp_string),\n",
    "          fontsize = label_size)\n",
    "#fname = 'usc_N=1_gE{}_gP{}.pdf'.format(gamma_string,pump_string)\n",
    "#plt.savefig(fname)    \n",
    "plt.show()\n",
    "plt.close()\n",
    "\n",
    "# Figure 2 -- Photon population\n",
    "fig, axes = plt.subplots(1, 1, sharex=True, figsize=(10, 9))\n",
    "axes.plot(tlist, nphott, 'c', linewidth = 2*lw, label = \"USC ME\")\n",
    "axes.plot(tlist, nphott2, 'g-o', linewidth = lw, label = \"Undressed Lindbladian ME\")\n",
    "axes.plot(tlist, nphott3, 'r--', linewidth = lw, label = \"Reconstructed USC ME\")\n",
    "axes.plot(tlist, gstate_phot, 'y--', linewidth = 4*lw, label = \"USC Ground State\")\n",
    "axes.plot(tlist, undressed_steady_list_phot, 'k--', \n",
    "          linewidth = lw, label = \"Undressed Steady State\")\n",
    "axes.plot(tlist, steady_reconstructed_list_phot, 'b--', \n",
    "          linewidth = lw, label = \"Dressed Reconstructed Steady State\")\n",
    "\n",
    "plt.xlabel(r'$t$', fontsize=label_size)\n",
    "plt.ylabel(r'$\\langle a^\\dagger a\\rangle$', fontsize=label_size)\n",
    "axes.legend(fontsize=label_size*0.8)\n",
    "plt.title(r'USC, $N={}$, $\\gamma_\\downarrow={}$, $\\gamma_\\uparrow={}$, $\\gamma_\\phi={}$, $\\kappa={}$, $w={}$'\n",
    "          .format(1,gamma_string,pump_string,deph_string,kappa_string,pumpp_string),\n",
    "          fontsize = label_size)\n",
    "#fname = 'usc_phot_N=1_gE{}_gP{}.pdf'.format(gamma_string,pump_string)\n",
    "#plt.savefig(fname)    \n",
    "plt.show()\n",
    "plt.close()\n",
    "\n",
    "\n",
    "# Fig 3 checks ==0,1\n",
    "fig, axes3 = plt.subplots(1, 1, sharex = True, figsize = (8,4))\n",
    "axes3.plot(tlist, np.real(szt - szt3), 'k-', linewidth=lw, label=\"P1 - Reconstructed\")\n",
    "axes3.plot(tlist, 1+np.real(szt - szt3), 'k--', linewidth=lw, label=\"P1 - Reconstructed+1\")\n",
    "plt.title(r'Plot Checks (should be solid=1 and dashed=0)'\n",
    "          .format(1,gamma_string,pump_string,deph_string,kappa_string,pumpp_string),\n",
    "          fontsize = label_size)\n",
    "axes3.legend(fontsize=label_size*0.8)\n",
    "plt.show()\n",
    "plt.close()"
   ]
  },
  {
   "cell_type": "markdown",
   "metadata": {},
   "source": [
    "### 2) Case $N>1$ : Multiple TLSs"
   ]
  },
  {
   "cell_type": "markdown",
   "metadata": {},
   "source": [
    "#### Define standard parameters and new operators for the tensor space"
   ]
  },
  {
   "cell_type": "code",
   "execution_count": 84,
   "metadata": {},
   "outputs": [
    {
     "name": "stdout",
     "output_type": "stream",
     "text": [
      "gE=  1.0  gD=  0.0  gP=  0.0  gCE=  0.1  gCD=  0.0  gCP=  0.0\n"
     ]
    }
   ],
   "source": [
    "# N TLS parameters\n",
    "\n",
    "# N TLSs \n",
    "N = 3\n",
    "ntls = N\n",
    "nds = num_dicke_states(ntls)\n",
    "[jx, jy, jz, jp, jm] = j_algebra(N)\n",
    "w0 = wq\n",
    "\n",
    "gE = gamma\n",
    "gD = dephasing\n",
    "gP = pump\n",
    "\n",
    "gCE = 0.1\n",
    "gCD = 0.\n",
    "gCP = 0.\n",
    "\n",
    "print(\"gE= \",gE,\" gD= \",gD,\" gP= \",gP,\" gCE= \",gCE,\" gCD= \",gCD,\" gCP= \",gCP)\n",
    "\n",
    "# spin hamiltonian\n",
    "h = w0 * jz\n",
    "\n",
    "#photonic parameters\n",
    "nphot = Ncav\n",
    "wc = wcav\n",
    "kappa = kappa\n",
    "w_pump = photon_pump\n",
    "g = 2*lam\n",
    "a_N = destroy(nphot)\n",
    "\n",
    "# total operators in tensor space (N TLSs and nphot photons)\n",
    "jz_tot = tensor(qeye(nphot), jz)\n",
    "jp_tot = tensor(qeye(nphot), jp)\n",
    "jm_tot = tensor(qeye(nphot), jm)\n",
    "jpjm_tot = tensor(qeye(nphot), jp*jm)\n",
    "nphot_tot = tensor(a_N.dag()*a_N, qeye(nds))\n",
    "adag_tot = tensor(a_N.dag(), qeye(nds))\n",
    "a_tot = tensor(a_N, qeye(nds))"
   ]
  },
  {
   "cell_type": "markdown",
   "metadata": {},
   "source": [
    "### 2.a) Case $N>1$: Undressed basis, non-USC Liouvillian (with PIQS)\n",
    "We build the light-matter Liouvillian using the undressed basis"
   ]
  },
  {
   "cell_type": "code",
   "execution_count": 85,
   "metadata": {},
   "outputs": [
    {
     "name": "stdout",
     "output_type": "stream",
     "text": [
      "Non-USC Lindbladian built with PIQS\n",
      "liouv_tot.shape = (324, 324)\n"
     ]
    },
    {
     "data": {
      "text/plain": [
       "N = 3\n",
       "Hilbert space dim = (6, 6)\n",
       "Number of Dicke states = 6\n",
       "Liouvillian space dim = (36, 36)\n",
       "emission = 1.0\n",
       "collective_emission = 0.1"
      ]
     },
     "execution_count": 85,
     "metadata": {},
     "output_type": "execute_result"
    }
   ],
   "source": [
    "# N TLS Liouvillian (undressed basis)\n",
    "system = Piqs(N = N)\n",
    "system.hamiltonian = h \n",
    "system.emission = gE \n",
    "system.dephasing = gD\n",
    "system.pumping = gP\n",
    "system.collective_emission = gCE \n",
    "system.collective_dephasing = gCD\n",
    "system.collective_pumping = gCP\n",
    "\n",
    "# build the total Liouvillian for comparison\n",
    "liouv = system.liouvillian() \n",
    "\n",
    "# build the single non-USC Lindbladians to reconstruct the USC ones\n",
    "systemE = Piqs(N = N, emission = gE)\n",
    "systemD = Piqs(N = N, dephasing = gD)\n",
    "systemP = Piqs(N = N, pumping = gP)\n",
    "systemCE = Piqs(N = N, collective_emission = gCE)\n",
    "systemCD = Piqs(N = N, collective_dephasing = gCD)\n",
    "systemCP = Piqs(N = N, collective_pumping = gCP)\n",
    "\n",
    "lindbladE = systemE.lindbladian() \n",
    "lindbladD = systemD.lindbladian() \n",
    "lindbladP = systemP.lindbladian() \n",
    "lindbladCE = systemCE.lindbladian() \n",
    "lindbladCD = systemCD.lindbladian() \n",
    "lindbladCP = systemCP.lindbladian()\n",
    "\n",
    "\n",
    "# photonic Liouvilian\n",
    "h_phot = wc*a_N.dag()*a_N\n",
    "c_ops_phot = [np.sqrt(kappa)*a_N, np.sqrt(w_pump)*a_N.dag()]\n",
    "liouv_phot = liouvillian(h_phot, c_ops_phot)\n",
    "\n",
    "# photonic Lindbladian for reconstruction\n",
    "lindblad_a = liouvillian(0*h_phot, [np.sqrt(kappa)*a_N])\n",
    "lindblad_adag = liouvillian(0*h_phot, [np.sqrt(w_pump)*a_N.dag()])\n",
    "\n",
    "# identity superoperators\n",
    "id_tls = to_super(qeye(nds))\n",
    "id_phot = to_super(qeye(nphot))\n",
    "\n",
    "# place the Lindbladians in the tensor Liouvillian space\n",
    "lindE = super_tensor(id_phot, lindbladE) \n",
    "lindD = super_tensor(id_phot, lindbladD) \n",
    "lindP = super_tensor(id_phot, lindbladP) \n",
    "lindCE = super_tensor(id_phot, lindbladCE) \n",
    "lindCD = super_tensor(id_phot, lindbladCD) \n",
    "lindCP = super_tensor(id_phot, lindbladCP)\n",
    "lind_a = super_tensor(lindblad_a, id_tls)\n",
    "lind_adag = super_tensor(lindblad_adag, id_tls)\n",
    "\n",
    "# light-matter superoperator and total liouvillian in bare basis\n",
    "liouv_sum = super_tensor(liouv_phot, id_tls) + super_tensor(id_phot, liouv)\n",
    "h_int = g * tensor(a_N + a_N.dag(), jx)\n",
    "liouv_int = -1j* spre(h_int) + 1j* spost(h_int)\n",
    "liouv_tot = liouv_sum + liouv_int\n",
    "h_tot = tensor(qeye(nphot), h) + tensor(h_phot, qeye(nds)) + h_int\n",
    "print(\"Non-USC Lindbladian built with PIQS\")\n",
    "print(\"liouv_tot.shape =\",liouv_tot.shape)\n",
    "system"
   ]
  },
  {
   "cell_type": "markdown",
   "metadata": {},
   "source": [
    "### 2.b) Case $N>1$: Dressed basis, reconstructed USC Liouvillian (Dicke basis with PIQS)\n",
    "We reconstruct the USC Liouvillian from the non-USC Liouvillian built with PIQS in the Dicke basis"
   ]
  },
  {
   "cell_type": "code",
   "execution_count": 86,
   "metadata": {},
   "outputs": [
    {
     "name": "stdout",
     "output_type": "stream",
     "text": [
      "Calculating USC eigenstates...\n",
      "_Calculated USC eigenstates.\n",
      "Calculating USC Lindbladian (from PIQS)...\n",
      "_Calculated USC Lindbladian.\n"
     ]
    }
   ],
   "source": [
    "# construct USC liouvillian from PIQS\n",
    "print(\"Calculating USC eigenstates...\")\n",
    "eigen_value, eigen_state = h_tot.eigenstates()\n",
    "print(\"_Calculated USC eigenstates.\")\n",
    "matrixsize_N = nds * nphot\n",
    "c_ops_true_N = []\n",
    "print(\"Calculating USC Lindbladian (from PIQS)...\")\n",
    "# reconstruct USC Lindbladian for local and collective processes (besides dephasing) \n",
    "for j in range(matrixsize_N):\n",
    "    for k in range(j+1, matrixsize_N):\n",
    "        vec_rhojj_N = op2vec(eigen_state[j] * eigen_state[j].dag())\n",
    "        vec_rhokk_N = op2vec(eigen_state[k] * eigen_state[k].dag())\n",
    "        vec_rhojk_N = op2vec(eigen_state[j] * eigen_state[k].dag())\n",
    "        \n",
    "        if gE != 0:\n",
    "            # local emission\n",
    "            overlap_N = (vec_rhojj_N.dag() * lindE * vec_rhokk_N).data[0,0]\n",
    "            c_ops_true_N.append(np.sqrt(overlap_N)*eigen_state[j]*eigen_state[k].dag())    \n",
    "        if gP != 0:\n",
    "            # local pumping\n",
    "            overlap_N = (vec_rhojj_N.dag() * lindP * vec_rhokk_N).data[0,0]\n",
    "            c_ops_true_N.append(np.sqrt(overlap_N)*eigen_state[k]*eigen_state[j].dag())                \n",
    "        if gCE != 0:\n",
    "            # collective emission\n",
    "            overlap_N = (vec_rhojj_N.dag() * lindCE * vec_rhokk_N).data[0,0]\n",
    "            c_ops_true_N.append(np.sqrt(overlap_N)*eigen_state[j]*eigen_state[k].dag())    \n",
    "            \n",
    "        if gCP != 0:\n",
    "            # collective pumping\n",
    "            overlap_N = (vec_rhojj_N.dag() * lindCP * vec_rhokk_N).data[0,0]\n",
    "            c_ops_true_N.append(np.sqrt(overlap_N)*eigen_state[k]*eigen_state[j].dag())                \n",
    "\n",
    "        if kappa != 0:\n",
    "            # photon emission\n",
    "            overlap_N = (vec_rhojj_N.dag() * lind_a * vec_rhokk_N).data[0,0]\n",
    "            c_ops_true_N.append(np.sqrt(overlap_N)*eigen_state[j]*eigen_state[k].dag())    \n",
    "\n",
    "        if photon_pump != 0:\n",
    "            # photon pump\n",
    "            overlap_N = (vec_rhojj_N.dag() * lind_adag * vec_rhokk_N).data[0,0]\n",
    "            c_ops_true_N.append(np.sqrt(overlap_N)*eigen_state[k]*eigen_state[j].dag())                \n",
    "\n",
    "print(\"_Calculated USC Lindbladian.\")       "
   ]
  },
  {
   "cell_type": "code",
   "execution_count": 87,
   "metadata": {},
   "outputs": [
    {
     "name": "stdout",
     "output_type": "stream",
     "text": [
      "Calculating mesolve non-USC (PIQS)...\n",
      "_Calculated mesolve non-USC (PIQS).\n",
      "Calculating mesolve USC (from PIQS)...\n",
      "_Calculated mesolve USC (from PIQS).\n"
     ]
    }
   ],
   "source": [
    "## Set the intial state in the tensor Hilbert space\n",
    "# intial spin state\n",
    "rho0 = dicke(N, N/2, -N/2)\n",
    "# intial photon state\n",
    "rho0_phot = ket2dm(basis(nphot,0))\n",
    "# intial tensor state \n",
    "rho0_tot = tensor(rho0_phot, rho0)\n",
    "\n",
    "## Time integrations\n",
    "# time integration for non-USC, PIQS\n",
    "print(\"Calculating mesolve non-USC (PIQS)...\")\n",
    "output4 = mesolve(liouv_tot, rho0_tot, tlist, [],\n",
    "                  [jz_tot, jp_tot, adag_tot*a_tot], options=options)\n",
    "rhot_tot4 = output4.states\n",
    "jzt_tot4 = output4.expect[0]\n",
    "jpt_tot4 = output4.expect[1]\n",
    "nphott_tot4 = output4.expect[2]\n",
    "print(\"_Calculated mesolve non-USC (PIQS).\")\n",
    "\n",
    "# time integration for USC reconstructed with PIQS\n",
    "print(\"Calculating mesolve USC (from PIQS)...\")\n",
    "output5 = mesolve(h_tot, rho0_tot, tlist, c_ops_true_N,\n",
    "                  [jz_tot, jp_tot, adag_tot*a_tot], options=options)\n",
    "rhot_tot5 = output5.states\n",
    "jzt_tot5 = output5.expect[0]\n",
    "jpt_tot5 = output5.expect[1]\n",
    "nphott_tot5 = output5.expect[2]\n",
    "print(\"_Calculated mesolve USC (from PIQS).\")\n",
    "gstate_N = [expect(eigen_state[0] * eigen_state[0].dag(), jz_tot/(N/2.0)) for t in tlist]"
   ]
  },
  {
   "cell_type": "markdown",
   "metadata": {},
   "source": [
    "### 2.c) Case $N>1$: Undressed basis, non-USC Liouvillian ($2^N\\cdot2^N$ basis)\n",
    "We reconstruct the USC Liouvillian from the non-USC Liouvillian built with QuTiP in the uncoupled basis. This procedure is feasible only for very low numbers of TLSs, $N\\ll 10$, given that there is a overhead also from the photonic space. "
   ]
  },
  {
   "cell_type": "code",
   "execution_count": 88,
   "metadata": {},
   "outputs": [
    {
     "name": "stdout",
     "output_type": "stream",
     "text": [
      "(576, 576)\n"
     ]
    }
   ],
   "source": [
    "## N>1 with QuTiP without PIQS (2**N basis, called \"2N\") \n",
    "\n",
    "# implement only if N<N_max\n",
    "# otherwise it becomes too computationally intensive\n",
    "N_max = 5\n",
    "\n",
    "if N<N_max:\n",
    "    ## Operators\n",
    "    # define local spin algebra\n",
    "    sx_2N, sy_2N, sz_2N, sp_2N, sm_2N = spin_algebra(N)\n",
    "    # define collective spin algebra\n",
    "    jx_2N, jy_2N, jz_2N, jp_2N, jm_2N = j_algebra(N, basis=\"uncoupled\") \n",
    "    # place collective spin operators in total Hilbert space\n",
    "    jz_tot_2N = tensor(qeye(nphot),jz_2N)\n",
    "    jp_tot_2N = tensor(qeye(nphot),jp_2N)\n",
    "    # build spin identity operator with correct dimensions (tensor Hilbert space)\n",
    "    id_tls_2N = qeye(2**N)\n",
    "    dims_2N = jz_2N.dims\n",
    "    id_tls_2N.dims = dims_2N\n",
    "    # build spin identity superoperator\n",
    "    sup_tls_2N = to_super(id_tls_2N)\n",
    "    \n",
    "    # Spin Hamiltonian in total Hilbert space    \n",
    "    h0_2N = tensor(qeye(nphot), wq*jz_2N)\n",
    "    # Photon Hamiltonian in total Hilbert space        \n",
    "    h_phot_2N = tensor(wcav*a_N.dag()*a_N, id_tls_2N)\n",
    "    # Spin-Photon Hamiltonian in total Hilbert space        \n",
    "    hint_2N = g*tensor(a_N.dag()+a_N, jx_2N)\n",
    "    # Total Hamiltonian         \n",
    "    h_2N =  h0_2N + h_phot_2N + hint_2N\n",
    "\n",
    "    # Collapse operators for the Liouvillian        \n",
    "    cops_tls = c_ops_tls(N = N, emission = gE, pumping = gP, dephasing = gD,\n",
    "                        collective_emission = gCE, collective_pumping = gCP, \n",
    "                         collective_dephasing = gCD)\n",
    "\n",
    "    cops_gE_2N = c_ops_tls(N = N, emission = gE)\n",
    "    cops_gP_2N = c_ops_tls(N = N, pumping = gP)\n",
    "    cops_gD_2N = c_ops_tls(N = N, dephasing = gD)\n",
    "    cops_gCE_2N = c_ops_tls(N = N, collective_emission = gCE)\n",
    "    cops_gCD_2N = c_ops_tls(N = N, collective_dephasing = gCD)\n",
    "    cops_gCP_2N = c_ops_tls(N = N, collective_pumping = gCP)\n",
    "    cops_2N = []\n",
    "    \n",
    "    # Place collapse operators in total tensor space\n",
    "    for i in range(0,len(cops_tls)):\n",
    "        cops_2N.append(tensor(qeye(nphot), cops_tls[i]))\n",
    "    # Build photonic collapse operators and place in total tensor space\n",
    "    cops_k = np.sqrt(kappa)*a_N\n",
    "    cops_w = np.sqrt(photon_pump)*a_N.dag()    \n",
    "    \n",
    "    cops_k_2N = tensor(np.sqrt(kappa)*a_N, id_tls_2N)\n",
    "    cops_w_2N = tensor(np.sqrt(photon_pump)*a_N.dag(), id_tls_2N)    \n",
    "    # Add photonic collapse operators\n",
    "    cops_2N.append(cops_k_2N)\n",
    "    cops_2N.append(cops_w_2N)    \n",
    "\n",
    "    # Finally build the total Liouvillian (non-USC)\n",
    "    liouv_2N = liouvillian(h_2N, cops_2N)    \n",
    "    print(liouv_2N.shape)\n",
    "\n",
    "\n",
    "    # Build Lindbladians for reconstruction of the USC Liouvillian\n",
    "    lindE_2N = liouvillian(0.*jz_2N, cops_gE_2N)\n",
    "    lindD_2N = liouvillian(0.*jz_2N, cops_gD_2N)\n",
    "    lindP_2N = liouvillian(0.*jz_2N, cops_gP_2N)\n",
    "    lindCE_2N = liouvillian(0.*jz_2N, cops_gCE_2N)\n",
    "    lindCD_2N = liouvillian(0.*jz_2N, cops_gCD_2N)\n",
    "    lindCP_2N = liouvillian(0.*jz_2N, cops_gCP_2N)\n",
    "    lindk_2N = liouvillian(0.*a_N, [cops_k])\n",
    "    lindw_2N = liouvillian(0.*a_N, [cops_w])\n",
    "    \n",
    "    # Place Lindbladians in total Liouvillian space\n",
    "    lindE_2N = super_tensor(id_phot, lindE_2N)\n",
    "    lindD_2N = super_tensor(id_phot, lindD_2N)\n",
    "    lindP_2N = super_tensor(id_phot, lindP_2N)\n",
    "    lindCE_2N = super_tensor(id_phot, lindCE_2N)\n",
    "    lindCD_2N = super_tensor(id_phot, lindCD_2N)\n",
    "    lindCP_2N = super_tensor(id_phot, lindCP_2N)\n",
    "    lindw_2N = super_tensor(lindw_2N, sup_tls_2N)\n",
    "    lindk_2N = super_tensor(lindk_2N, sup_tls_2N)\n",
    "\n",
    "    \n",
    "    # Set initial state in tensor Hilbert space    \n",
    "    rho0_tls_2N = ground(N, \"uncoupled\") \n",
    "    rh0_tot_2N = tensor(rho0_phot, rho0_tls_2N)    "
   ]
  },
  {
   "cell_type": "markdown",
   "metadata": {},
   "source": [
    "### 2.d) Case $N>1$: Dressed basis, reconstructed USC Liouvillian ($2^N\\cdot2^N$ basis)\n",
    "We reconstruct the USC Liouvillian from the non-USC Liouvillian built with QuTiP in the $2^N\\cdot 2^N$ basis"
   ]
  },
  {
   "cell_type": "code",
   "execution_count": 89,
   "metadata": {},
   "outputs": [
    {
     "name": "stdout",
     "output_type": "stream",
     "text": [
      "Calculating USC eigenstates (QuTiP, 2**N space)...\n",
      "_Calculated USC eigenstates (QuTiP, 2**N space).\n",
      "Calculating USC Lindbladian (QuTiP, 2**N space)...\n",
      "_Calculated USC Lindbladian (QuTiP, 2**N space).\n"
     ]
    }
   ],
   "source": [
    "# construct USC liouvillian (QuTiP)\n",
    "if N<N_max:\n",
    "    print(\"Calculating USC eigenstates (QuTiP, 2**N space)...\")\n",
    "    eigen_value_2N, eigen_state_2N = h_2N.eigenstates()\n",
    "    print(\"_Calculated USC eigenstates (QuTiP, 2**N space).\")\n",
    "    matrixsize_2N = 2**N * nphot\n",
    "    c_ops_true_2N = []\n",
    "    print(\"Calculating USC Lindbladian (QuTiP, 2**N space)...\")\n",
    "    for j in range(matrixsize_2N):\n",
    "        for k in range(j+1, matrixsize_2N):\n",
    "\n",
    "            vec_rhojj_2N = op2vec(eigen_state_2N[j] * eigen_state_2N[j].dag())\n",
    "            vec_rhokk_2N = op2vec(eigen_state_2N[k] * eigen_state_2N[k].dag())\n",
    "            vec_rhojk_2N = op2vec(eigen_state_2N[j] * eigen_state_2N[k].dag())\n",
    "            \n",
    "            if gE !=0:\n",
    "                # spin emission contribution to reconstructed USC Liouvillian (2^N Hilbert)\n",
    "                overlap_2N = (vec_rhojj_2N.dag() * lindE_2N * vec_rhokk_2N).data[0,0]\n",
    "                c_ops_true_2N.append(np.sqrt(overlap_2N)*eigen_state_2N[j]* \\\n",
    "                                     eigen_state_2N[k].dag())\n",
    "            if gP !=0:\n",
    "                # spin pump contribution to reconstructed USC Liouvillian (2^N Hilbert)                \n",
    "                overlap_2N = (vec_rhojj_2N.dag() * lindP_2N * vec_rhokk_2N).data[0,0]\n",
    "                c_ops_true_2N.append(np.sqrt(overlap_2N)*eigen_state_2N[k]* \\\n",
    "                                     eigen_state_2N[j].dag())\n",
    "            if kappa !=0:\n",
    "                # photon emission contribution to reconstructed USC Liouvillian (2^N Hilbert)                \n",
    "                overlap_2N = (vec_rhojj_2N.dag() * lindk_2N * vec_rhokk_2N).data[0,0]\n",
    "                c_ops_true_2N.append(np.sqrt(overlap_2N)*eigen_state_2N[j]* \\\n",
    "                                     eigen_state_2N[k].dag())\n",
    "            if photon_pump !=0:\n",
    "                # photon pump contribution to reconstructed USC Liouvillian (2^N Hilbert)\n",
    "                overlap_2N = (vec_rhojj_2N.dag() * lindw_2N * vec_rhokk_2N).data[0,0]\n",
    "                c_ops_true_2N.append(np.sqrt(overlap_2N)*eigen_state_2N[k]* \\\n",
    "                                     eigen_state_2N[j].dag())\n",
    "            if gCE !=0:\n",
    "                # collective spin emission contribution to reconstructed USC Liouvillian (2^N Hilbert)\n",
    "                overlap_2N = (vec_rhojj_2N.dag() * lindCE_2N * vec_rhokk_2N).data[0,0]\n",
    "                c_ops_true_2N.append(np.sqrt(overlap_2N)*eigen_state_2N[j]* \\\n",
    "                                     eigen_state_2N[k].dag())\n",
    "            if gCP !=0:\n",
    "                # collective spin pump contribution to reconstructed USC Liouvillian (2^N Hilbert)\n",
    "                overlap_2N = (vec_rhojj_2N.dag() * lindCP_2N * vec_rhokk_2N).data[0,0]\n",
    "                c_ops_true_2N.append(np.sqrt(overlap_2N)*eigen_state_2N[k]* \\\n",
    "                                     eigen_state_2N[j].dag())\n",
    "                \n",
    "    print(\"_Calculated USC Lindbladian (QuTiP, 2**N space).\")\n",
    "\n",
    "    # Here we did not include dephasing to reconstruct the USC Liouvillian"
   ]
  },
  {
   "cell_type": "code",
   "execution_count": 90,
   "metadata": {},
   "outputs": [
    {
     "name": "stdout",
     "output_type": "stream",
     "text": [
      "Calculating mesolve non-USC (QuTiP, 2**N space)...\n",
      "_Calculated mesolve non-USC (QuTiP, 2**N space).\n",
      "Calculating mesolve USC (QuTiP, 2**N space)...\n",
      "_Calculated mesolve USC (QuTiP, 2**N space).\n"
     ]
    }
   ],
   "source": [
    "if N<N_max:\n",
    "    print(\"Calculating mesolve non-USC (QuTiP, 2**N space)...\")\n",
    "    output6 = mesolve(liouv_2N, rh0_tot_2N, tlist, [], [jz_tot_2N, jp_tot_2N], \n",
    "                      options=options)\n",
    "    rhot_tot6 = output6.states\n",
    "    jzt_tot6 = output6.expect[0]\n",
    "    jpt_tot6 = output6.expect[1]\n",
    "    print(\"_Calculated mesolve non-USC (QuTiP, 2**N space).\")\n",
    "\n",
    "    print(\"Calculating mesolve USC (QuTiP, 2**N space)...\")\n",
    "    output7 = mesolve(h_2N, rh0_tot_2N, tlist, c_ops_true_2N, \n",
    "                      [jz_tot_2N, jp_tot_2N], options=options)\n",
    "    rhot_tot7 = output7.states\n",
    "    jzt_tot7 = output7.expect[0]\n",
    "    jpt_tot7 = output7.expect[1]\n",
    "    print(\"_Calculated mesolve USC (QuTiP, 2**N space).\")"
   ]
  },
  {
   "cell_type": "code",
   "execution_count": 91,
   "metadata": {},
   "outputs": [],
   "source": [
    "## One could make a 2.e) point with a non-reconstructed USC Lindbladian, \n",
    "## just calculating the collapse operators"
   ]
  },
  {
   "cell_type": "code",
   "execution_count": 92,
   "metadata": {},
   "outputs": [],
   "source": [
    "# build the ground state calculated from the 2^N light-matter Hamiltonian\n",
    "if N<N_max:\n",
    "    gstate_2N = [expect(eigen_state_2N[0] * eigen_state_2N[0].dag(),\n",
    "                        jz_tot_2N/(N/2.0)) for t in tlist]"
   ]
  },
  {
   "cell_type": "markdown",
   "metadata": {},
   "source": [
    "#### Visualization: Comparing time evolutions for $N>1$"
   ]
  },
  {
   "cell_type": "code",
   "execution_count": 102,
   "metadata": {
    "scrolled": true
   },
   "outputs": [
    {
     "data": {
      "image/png": "[encoded data removed]",
      "text/plain": [
       "<matplotlib.figure.Figure at 0x1a1c03c668>"
      ]
     },
     "metadata": {},
     "output_type": "display_data"
    }
   ],
   "source": [
    "lw = 2\n",
    "label_size = 20\n",
    "plt.rc('text', usetex = True)\n",
    "plt.rc('xtick', labelsize=label_size) \n",
    "plt.rc('ytick', labelsize=label_size)\n",
    "gE_string = np.round(gE,2)\n",
    "gD_string = np.round(gD,2)\n",
    "gP_string = np.round(gP,2)\n",
    "gCE_string = np.round(gCE,2)\n",
    "gCD_string = np.round(gCD,2)\n",
    "gCP_string = np.round(gCP,2)\n",
    "k_string = np.round(kappa,2)\n",
    "w_string = np.round(photon_pump,2)\n",
    "\n",
    "fig3, axes3 = plt.subplots(1, 1, sharex=True, figsize = (10, 4))\n",
    "plt.xlabel(r'$t$', fontsize=label_size)\n",
    "plt.ylabel(r'$\\langle J_z\\rangle$', fontsize=label_size)\n",
    "axes3.plot(tlist, jzt_tot4/(N/2.0), 'c-', linewidth=lw, label=\"Undressed Dicke basis\")\n",
    "axes3.plot(tlist, jzt_tot5/(N/2.0), 'r-', linewidth=lw, label=\"USC Dicke basis (PIQS)\")\n",
    "axes3.plot(tlist, gstate_N, 'y--', linewidth=2*lw, label=\"USC Ground State Dicke basis\")\n",
    "if N==1:\n",
    "    axes3.plot(tlist, szt, 'b', linewidth=lw, label=\"P1 USC me\")\n",
    "    axes3.plot(tlist, szt2, 'g-', linewidth=lw, label=\"P1 lind me\")\n",
    "    axes3.plot(tlist, np.real(szt-jzt_tot5/(N/2.0))-1, 'c-', linewidth=lw, \n",
    "               label=\"-1 + jz(PIQS undressed) - jz(undressed me)\")\n",
    "    axes3.plot(tlist, np.real(szt-jzt_tot5/(N/2.0))-1, 'k--', linewidth=lw, \n",
    "               label=\"-1 + jz(PIQS USC) - jz(P1 USC me)\")\n",
    "\n",
    "axes3.legend(fontsize=label_size*0.8)\n",
    "plt.title(r'$N={}$, $\\gamma_\\downarrow={}$, $\\gamma_\\uparrow={}$, $\\gamma_\\phi={}$, $\\kappa={}$, $w={}$, $\\gamma_\\Downarrow={}$, $\\gamma_\\Uparrow={}$, $\\gamma_\\Phi={}$'\n",
    "          .format(N,gE_string,gP_string,gD_string,kappa_string,w_string,gCE_string,gCP_string,gCD_string),\n",
    "          fontsize = label_size*0.8)\n",
    "plt.show()\n",
    "plt.close()"
   ]
  },
  {
   "cell_type": "code",
   "execution_count": 100,
   "metadata": {},
   "outputs": [
    {
     "data": {
      "image/png": "[encoded data removed]",
      "text/plain": [
       "<matplotlib.figure.Figure at 0x115a0aa90>"
      ]
     },
     "metadata": {},
     "output_type": "display_data"
    }
   ],
   "source": [
    "lw = 1.5\n",
    "fig4, axes4 = plt.subplots(1, 1, sharex=True, figsize = (10, 5))\n",
    "plt.xlabel(r'$t$', fontsize=label_size)\n",
    "plt.ylabel(r'$\\langle J_z\\rangle$', fontsize=label_size)\n",
    "axes4.plot(tlist, jzt_tot4/(N/2.0), 'b-', linewidth=2*lw, \n",
    "           label=\"Undressed Dicke basis (PIQS)\")\n",
    "if N<N_max:\n",
    "    axes4.plot(tlist, jzt_tot6/(N/2.0), 'c--', linewidth=2*lw, label=\"Undressed 2N basis\")\n",
    "    axes4.plot(tlist, jzt_tot7/(N/2.0), 'r-', linewidth=lw, label=\"USC 2N basis\")\n",
    "axes4.plot(tlist, jzt_tot5/(N/2.0), 'g--', linewidth=lw, label=\"USC Dicke basis (PIQS)\")\n",
    "if N<N_max:\n",
    "    axes4.plot(tlist, gstate_2N, 'y-', linewidth=2*lw, label=\"USC Ground State 2N basis\")\n",
    "axes4.plot(tlist, gstate_N, 'k--', linewidth=2*lw, label=\"USC Ground State Dicke basis\")\n",
    "#axes4.set_ylim([-1.2, -0.8])\n",
    "axes4.legend(fontsize=label_size*0.8)\n",
    "plt.title(r'$N={}$, $\\gamma_\\downarrow={}$, $\\gamma_\\uparrow={}$, $\\gamma_\\phi={}$, $\\kappa={}$, $w={}$, $\\gamma_\\Downarrow={}$, $\\gamma_\\Uparrow={}$, $\\gamma_\\Phi={}$'\n",
    "          .format(N,gE_string,gP_string,gD_string,kappa_string,w_string,gCE_string,gCP_string,gCD_string),\n",
    "          fontsize = label_size*0.8)\n",
    "#fname = 'usc_N={}_gE{}_gP{}.pdf'.format(N,gamma_string,pump_string)\n",
    "#plt.savefig(fname)    \n",
    "plt.show()\n",
    "plt.close()"
   ]
  },
  {
   "cell_type": "markdown",
   "metadata": {},
   "source": [
    "#### References\n",
    "\n",
    "[1] H.P. Breuer and F. Petruccione, The Theory of Open Quantum System, Oxford University Press (2002)\n",
    "\n",
    "[2] F. Beaudoin, J.M. Gambetta, and A. Blais, *Phys. Rev. A* **84**, 043832 (2011)\n",
    "    Dissipation and ultrastrong coupling in circuit QED\n",
    "\n",
    "[3] P. Strasberg, G. Schaller, N. Lambert, and T. Brandes, *New. J. Phys.* **18**, 073007 (2016)\n",
    "    Nonequilibrium thermodynamics in the strong coupling \n",
    "    and non-Markovian regime based on a reaction coordinate mapping\n",
    "\n",
    "[4] B.A. Chase and J.M Geremia, *Phys. Rev. A* **78**, 052101 (2010)\n",
    "    Collective processes of an ensemble of spin-1/2 particles\n",
    "\n",
    "[5] N. Shammah, S. Ahmed, N. Lambert, S. De Liberato, and F. Nori, *to be submitted*\n",
    "\n",
    "[6] J.R. Johansson, P.D. Nation, and F. Nori, *Comp. Phys. Comm.* **183**, 1760 (2012) http://qutip.org"
   ]
  },
  {
   "cell_type": "code",
   "execution_count": null,
   "metadata": {},
   "outputs": [],
   "source": [
    "qutip.about()"
   ]
  },
  {
   "cell_type": "code",
   "execution_count": null,
   "metadata": {},
   "outputs": [],
   "source": [
    "aa = [2, 3]\n",
    "a2 = [4, 6]\n",
    "a2.append(aa)\n",
    "print(a2)"
   ]
  },
  {
   "cell_type": "code",
   "execution_count": null,
   "metadata": {},
   "outputs": [],
   "source": []
  },
  {
   "cell_type": "code",
   "execution_count": null,
   "metadata": {},
   "outputs": [],
   "source": []
  }
 ],
 "metadata": {
  "kernelspec": {
   "display_name": "Python 3",
   "language": "python",
   "name": "python3"
  },
  "language_info": {
   "codemirror_mode": {
    "name": "ipython",
    "version": 3
   },
   "file_extension": ".py",
   "mimetype": "text/x-python",
   "name": "python",
   "nbconvert_exporter": "python",
   "pygments_lexer": "ipython3",
   "version": "3.6.3"
  }
 },
 "nbformat": 4,
 "nbformat_minor": 2
}
