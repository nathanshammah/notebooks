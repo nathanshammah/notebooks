{
 "cells": [
  {
   "cell_type": "markdown",
   "metadata": {},
   "source": [
    "# PIQS\n",
    "This notebook runs the snippets of code contained in the article relative to the PIQS software [1,2], integrated with QuTiP [3].\n",
    "\n",
    "Notebook authors: Nathan Shammah (nathan.shammah at gmail.com) and Shahnawaz Ahmed (shahnawaz.ahmed95 at gmail.com)"
   ]
  },
  {
   "cell_type": "code",
   "execution_count": 1,
   "metadata": {},
   "outputs": [],
   "source": [
    "from piqs import Dicke\n",
    "\n",
    "N = 10\n",
    "ensemble = Dicke(N)\n",
    "ensemble.emission = 0.2\n",
    "D = ensemble.liouvillian()"
   ]
  },
  {
   "cell_type": "code",
   "execution_count": 2,
   "metadata": {},
   "outputs": [],
   "source": [
    "from piqs import (ghz, dicke)\n",
    "from piqs import jspin\n",
    "\n",
    "rho1, rho2 = ghz(N), dicke(N,N/2,0)\n",
    "[jx, jy, jz] = jspin(N)\n",
    "H = jz + 0.5*jx"
   ]
  },
  {
   "cell_type": "code",
   "execution_count": 3,
   "metadata": {},
   "outputs": [],
   "source": [
    "from piqs import num_dicke_states\n",
    "from qutip import *\n",
    "\n",
    "# identity superoperators\n",
    "nds = num_dicke_states(N)\n",
    "nph = 20\n",
    "itls = to_super(qeye(nds))\n",
    "iph = to_super(qeye(nph))\n",
    "a = destroy(nph)\n",
    "# photonic liouvillian\n",
    "D_ph = liouvillian(a.dag()*a, [a])\n",
    "# total TLS liouvillian\n",
    "D_tls = super_tensor(D_ph,itls) \\\n",
    "        + super_tensor(iph,D)"
   ]
  },
  {
   "cell_type": "code",
   "execution_count": 4,
   "metadata": {},
   "outputs": [],
   "source": [
    "import numpy as np\n",
    "# strong light-matter interaction\n",
    "H_i = tensor(a + a.dag(), jx)\n",
    "D_i = -1j*spre(H_i)+1j*spost(H_i)\n",
    "D_tot = D_tls + D_i\n",
    "\n",
    "rho_tls = ghz(N)\n",
    "rho_ph = ket2dm(basis(nph,0))\n",
    "rho = tensor(rho_ph, rho_tls)\n",
    "t = np.linspace(0, 10, 1000)\n",
    "\n",
    "result = mesolve(D_tot, rho, t,[])\n",
    "rhot = result.states"
   ]
  },
  {
   "cell_type": "code",
   "execution_count": 5,
   "metadata": {},
   "outputs": [],
   "source": [
    "rho_tls = dicke(N, N/2, 0)\n",
    "result = ensemble.pisolve(rho_tls, t)\n",
    "rhot = result.states\n",
    "jzt = expect(rhot, jz)"
   ]
  },
  {
   "cell_type": "markdown",
   "metadata": {},
   "source": [
    "#### References\n",
    "\n",
    "[1] N. Shammah, S. Ahmed, N. Lambert, S. De Liberato, and F. Nori, https://arxiv.org/abs/1805.05129\n",
    "    \n",
    "[2] N. Shammah and S. Ahmed, PIQS: Permutational Invariant Quantum Solver, https://github.com/nathanshammah/piqs/\n",
    "\n",
    "[3] J.R. Johansson, P.D. Nation, and F. Nori, *Comp. Phys. Comm.* **183**, 1760 (2012) \n",
    "    http://qutip.org"
   ]
  },
  {
   "cell_type": "code",
   "execution_count": 6,
   "metadata": {},
   "outputs": [
    {
     "name": "stdout",
     "output_type": "stream",
     "text": [
      "\n",
      "QuTiP: Quantum Toolbox in Python\n",
      "Copyright (c) 2011 and later.\n",
      "A. J. Pitchford, P. D. Nation, R. J. Johansson, A. Grimsmo, and C. Granade\n",
      "\n",
      "QuTiP Version:      4.3.0.dev0+cdc2204a\n",
      "Numpy Version:      1.13.3\n",
      "Scipy Version:      1.0.0\n",
      "Cython Version:     0.27.3\n",
      "Matplotlib Version: 2.1.1\n",
      "Python Version:     3.6.3\n",
      "Number of CPUs:     2\n",
      "BLAS Info:          INTEL MKL\n",
      "OPENMP Installed:   False\n",
      "INTEL MKL Ext:      True\n",
      "Platform Info:      Darwin (x86_64)\n",
      "Installation path:  /Users/nathanshammah/Dropbox/GitHub/qutip/qutip\n",
      "Please cite QuTiP in your publication.\n",
      "For your convenience a bibtex file can be easily generated using `qutip.about.cite()`\n"
     ]
    }
   ],
   "source": [
    "qutip.about()"
   ]
  },
  {
   "cell_type": "code",
   "execution_count": null,
   "metadata": {},
   "outputs": [],
   "source": []
  }
 ],
 "metadata": {
  "kernelspec": {
   "display_name": "Python 3",
   "language": "python",
   "name": "python3"
  },
  "language_info": {
   "codemirror_mode": {
    "name": "ipython",
    "version": 3
   },
   "file_extension": ".py",
   "mimetype": "text/x-python",
   "name": "python",
   "nbconvert_exporter": "python",
   "pygments_lexer": "ipython3",
   "version": "3.6.3"
  }
 },
 "nbformat": 4,
 "nbformat_minor": 2
}
