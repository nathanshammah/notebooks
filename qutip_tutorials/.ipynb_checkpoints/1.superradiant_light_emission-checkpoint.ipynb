{
 "cells": [
  {
   "cell_type": "markdown",
   "metadata": {},
   "source": [
    "## Superradiant light emission (Dicke superradiance)\n",
    "\n",
    "Notebook author: Nathan Shammah (nathan.shammah at gmail.com)\n",
    "\n",
    "We consider a system of $N$ two-level systems (TLSs) with identical frequency $\\omega_{0}$, which can emit collectively at a rate $\\gamma_\\text{CE}$ [1], and suffer from dephasing and local losses at rates $\\gamma_\\text{D}$ and $\\gamma_\\text{E}$, respectively. The dynamics can be written as\n",
    "\\begin{eqnarray}\n",
    "\\dot{\\rho} &=&-i\\lbrack \\omega_{0}J_z,\\rho \\rbrack\n",
    "+\\frac{\\gamma_\\text {CE}}{2}\\mathcal{L}_{J_{-}}[\\rho]\n",
    "+\\sum_{n=1}^{N}\\frac{\\gamma_\\text{D}}{2}\\mathcal{L}_{J_{z,n}}[\\rho]\n",
    "+\\frac{\\gamma_\\text{E}}{2}\\mathcal{L}_{J_{-,n}}[\\rho]\n",
    "\\end{eqnarray}\n",
    "\n",
    "When $\\gamma_\\text{E}=\\gamma_\\text{D}=0$ this dynamics is the classical superradiant master equation.\n",
    "In this limit, a system initially prepared in the fully-excited state undergoes superradiant light emission whose peak intensity scales proportionally to $N^2$.\n",
    "\n",
    "This dynamics has been studied in Refs. [2-4] and implemented in various quantum optical platforms, including in the solid state [5-10]. A discussion of the difference between superradiant phase transition (typical of the Dicke model) and Dicke superradiance is present in Refs. [3] and [11].\n",
    "\n",
    "Below, using PIQS [4] and QuTiP [12], we investigate the time evolution of the collective dynamics for an ensemble initialized in different initial quantum states."
   ]
  },
  {
   "cell_type": "code",
   "execution_count": 14,
   "metadata": {},
   "outputs": [],
   "source": [
    "from time import clock\n",
    "import matplotlib.pyplot as plt\n",
    "import scipy\n",
    "\n",
    "from qutip import *\n",
    "from qutip.piqs import *\n",
    "\n",
    "from scipy.sparse import load_npz, save_npz"
   ]
  },
  {
   "cell_type": "code",
   "execution_count": 9,
   "metadata": {},
   "outputs": [
    {
     "name": "stdout",
     "output_type": "stream",
     "text": [
      "The number of Dicke states is 121\n"
     ]
    }
   ],
   "source": [
    "N = 20\n",
    "ntls = N\n",
    "nds = num_dicke_states(N)\n",
    "print(\"The number of Dicke states is\", nds)\n",
    "[jx, jy, jz] = jspin(N)\n",
    "jp = jspin(N, \"+\")\n",
    "jm = jspin(N, \"-\")\n",
    "system = Dicke(N = N)"
   ]
  },
  {
   "cell_type": "code",
   "execution_count": 10,
   "metadata": {},
   "outputs": [],
   "source": [
    "a = 1/np.sqrt(2)\n",
    "b = 1/np.sqrt(2)\n",
    "css_symmetric = css(N, a, b)\n",
    "css_antisymmetric = css(N, a,-b)\n",
    "excited_ = dicke(N, N/2,N/2)\n",
    "superradiant = dicke(N,N/2,0)\n",
    "subradiant = dicke(N,j_min(N),-j_min(N))\n",
    "ground_ = dicke(N,N/2,-N/2)\n",
    "ghz_ = ghz(N)"
   ]
  },
  {
   "cell_type": "code",
   "execution_count": 11,
   "metadata": {},
   "outputs": [
    {
     "name": "stdout",
     "output_type": "stream",
     "text": [
      "Time (in seconds) to generate the Liouvillian for N = 20 TLSs: 0.05001800000000012\n"
     ]
    }
   ],
   "source": [
    "# here we set the initial coefficients\n",
    "gE = 0 # local emission\n",
    "gD = 0 # local dephasing\n",
    "gP = 0 # local pumping\n",
    "gCE = 1 # collective emission\n",
    "gCD = 0 # collective dephasing\n",
    "gCP = 0 # collective pumping\n",
    "w0 = 1  # bare frequency\n",
    "wi = 0  # coherent drive frequency\n",
    "\n",
    "# spin hamiltonian\n",
    "h0 = w0 * jz\n",
    "hint = wi * jx\n",
    "h = h0 #+ hint\n",
    "\n",
    "#set initial conditions for spins by initializing the system and building the Liouvillian matrix\n",
    "system = Dicke(hamiltonian = h, \n",
    "               N = N, \n",
    "               emission = gE, \n",
    "               pumping = gP, \n",
    "               dephasing = gD, \n",
    "               collective_emission = gCE, \n",
    "               collective_pumping = gCP, \n",
    "               collective_dephasing = gCD)\n",
    "clock_t0 = clock()\n",
    "lind = system.lindbladian()\n",
    "liouv = system.liouvillian()\n",
    "clock_tf = clock()\n",
    "dt_clock = clock_tf - clock_t0\n",
    "print(\"Time (in seconds) to generate the Liouvillian for N = 20 TLSs:\", dt_clock)"
   ]
  },
  {
   "cell_type": "code",
   "execution_count": 12,
   "metadata": {},
   "outputs": [
    {
     "name": "stdout",
     "output_type": "stream",
     "text": [
      "Elapsed time (in seconds) for this run:  0.9674550000000002\n",
      "Elapsed time (in seconds) for this run:  0.9788959999999998\n",
      "Elapsed time (in seconds) for this run:  0.9429020000000001\n",
      "Elapsed time (in seconds) for this run:  0.9515390000000004\n",
      "Elapsed time (in seconds) for this run:  0.3746689999999999\n",
      "Elapsed time (in seconds) for this run:  0.9319750000000004\n"
     ]
    }
   ],
   "source": [
    "## Solution of the dynamics for different initial conditions\n",
    "\n",
    "# parameters for the time integration of the dynamics\n",
    "nt = 1001\n",
    "td0 = np.log(N)/(N*gCE) # delay time is used as a reference\n",
    "tmax = 10 * td0\n",
    "t = np.linspace(0, tmax, nt)\n",
    "\n",
    "# initial states \n",
    "rho01 = excited_\n",
    "rho02 = superradiant\n",
    "rho03 = css_symmetric\n",
    "rho04 = css_antisymmetric\n",
    "rho05 = subradiant\n",
    "rho06 = ghz_\n",
    "\n",
    "#Excited\n",
    "clock_t0 = clock()\n",
    "result1 = mesolve(liouv, rho01, t, [], e_ops = [jz, jp*jm, jz**2], \n",
    "                  options = Options(store_states=True))\n",
    "rhot1 = result1.states\n",
    "jz_t1 = result1.expect[0]\n",
    "jpjm_t1 = result1.expect[1]\n",
    "jz2_t1 = result1.expect[2]\n",
    "clock_tf = clock()\n",
    "dt_clock = clock_tf - clock_t0\n",
    "print(\"Elapsed time (in seconds) for this run: \", dt_clock)\n",
    "\n",
    "#Superradiant\n",
    "clock_t0 = clock()\n",
    "result2 = mesolve(liouv, rho02, t, [], e_ops = [jz, jp*jm, jz**2], \n",
    "                  options = Options(store_states=True))\n",
    "rhot2 = result2.states\n",
    "jz_t2 = result2.expect[0]\n",
    "jpjm_t2 = result2.expect[1]\n",
    "jz2_t2 = result2.expect[2]\n",
    "clock_tf = clock()\n",
    "dt_clock = clock_tf - clock_t0\n",
    "print(\"Elapsed time (in seconds) for this run: \", dt_clock)\n",
    "\n",
    "#CSS Symmetric\n",
    "clock_t0 = clock()\n",
    "result3 = mesolve(liouv, rho03, t, [], e_ops = [jz, jp*jm, jz**2], \n",
    "                  options = Options(store_states=True))\n",
    "rhot3 = result3.states\n",
    "jz_t3 = result3.expect[0]\n",
    "jpjm_t3 = result3.expect[1]\n",
    "jz2_t3 = result3.expect[2]\n",
    "clock_tf = clock()\n",
    "dt_clock = clock_tf - clock_t0\n",
    "print(\"Elapsed time (in seconds) for this run: \", dt_clock)\n",
    "\n",
    "#CSS Antisymmetric\n",
    "clock_t0 = clock()\n",
    "result4 = mesolve(liouv, rho04, t, [], e_ops = [jz, jp*jm, jz**2], \n",
    "                  options = Options(store_states=True))\n",
    "rhot4 = result4.states\n",
    "jz_t4 = result4.expect[0]\n",
    "jpjm_t4 = result4.expect[1]\n",
    "jz2_t4 = result4.expect[2]\n",
    "clock_tf = clock()\n",
    "dt_clock = clock_tf - clock_t0\n",
    "print(\"Elapsed time (in seconds) for this run: \", dt_clock)\n",
    "\n",
    "#Subradiant\n",
    "clock_t0 = clock()\n",
    "result5 = mesolve(liouv, rho05, t, [], e_ops = [jz, jp*jm, jz**2], \n",
    "                  options = Options(store_states=True))\n",
    "rhot5 = result5.states\n",
    "jz_t5 = result5.expect[0]\n",
    "jpjm_t5 = result5.expect[1]\n",
    "jz2_t5 = result5.expect[2]\n",
    "clock_tf = clock()\n",
    "dt_clock = clock_tf - clock_t0\n",
    "print(\"Elapsed time (in seconds) for this run: \", dt_clock)\n",
    "\n",
    "#GHZ\n",
    "clock_t0 = clock()\n",
    "result6 = mesolve(liouv, rho06, t, [], e_ops = [jz, jp*jm, jz**2], \n",
    "                  options = Options(store_states=True))\n",
    "rhot6 = result6.states\n",
    "jz_t6 = result6.expect[0]\n",
    "jpjm_t6 = result6.expect[1]\n",
    "jz2_t6 = result6.expect[2]\n",
    "clock_tf = clock()\n",
    "dt_clock = clock_tf - clock_t0\n",
    "print(\"Elapsed time (in seconds) for this run: \", dt_clock)"
   ]
  },
  {
   "cell_type": "markdown",
   "metadata": {},
   "source": [
    "#### Visualization"
   ]
  },
  {
   "cell_type": "code",
   "execution_count": 13,
   "metadata": {},
   "outputs": [
    {
     "data": {
      "image/png": "[encoded data removed]",
      "text/plain": [
       "<matplotlib.figure.Figure at 0x1a11e2f128>"
      ]
     },
     "metadata": {},
     "output_type": "display_data"
    },
    {
     "data": {
      "image/png": "[encoded data removed]",
      "text/plain": [
       "<matplotlib.figure.Figure at 0x1a11e9c4e0>"
      ]
     },
     "metadata": {},
     "output_type": "display_data"
    },
    {
     "data": {
      "image/png": "[encoded data removed]",
      "text/plain": [
       "<matplotlib.figure.Figure at 0x1a11ec7470>"
      ]
     },
     "metadata": {},
     "output_type": "display_data"
    }
   ],
   "source": [
    "jmax = (0.5 * N)\n",
    "j2max = (0.5 * N + 1) * (0.5 * N)\n",
    "\n",
    "label_size = 20\n",
    "label_size2 = 20\n",
    "label_size3 = 20\n",
    "label_size4 = 15\n",
    "plt.rc('text', usetex = True)\n",
    "\n",
    "\n",
    "fig1 = plt.figure()\n",
    "plt.plot(t/td0, jz_t1/jmax, '-.', label = r\"$|\\frac{N}{2},\\frac{N}{2}\\rangle$\")\n",
    "plt.plot(t/td0, jz_t2/jmax, '-', label = r\"$|\\frac{N}{2},0\\rangle$\")\n",
    "plt.plot(t/td0, jz_t3/jmax, '-', label = r\"$|+\\rangle_\\mathrm{CSS}$\")\n",
    "plt.plot(t/td0, jz_t4/jmax, '-', label = r\"$|-\\rangle_\\mathrm{CSS}$\")\n",
    "plt.plot(t/td0,jz_t5/jmax, '-', label = r\"$|0,0\\rangle$\")\n",
    "plt.plot(t/td0,jz_t6/jmax, '--', label = r\"$|\\mathrm{GHZ}\\rangle$\")\n",
    "#plt.ylim([-1,1])\n",
    "plt.xlabel(r'$t/t_\\mathrm{D}$', fontsize = label_size3)\n",
    "plt.ylabel(r'$\\langle J_{z} \\rangle(t)$', fontsize = label_size3)\n",
    "plt.xticks([0,(tmax/2)/td0,tmax/td0])\n",
    "plt.yticks([-1,0,1])\n",
    "plt.legend(fontsize = label_size4, ncol = 2)\n",
    "\n",
    "# plot\n",
    "plt.title(r'Total Inversion', fontsize = label_size3)    \n",
    "plt.show()\n",
    "plt.close()\n",
    "\n",
    "fig2 = plt.figure()\n",
    "plt.plot(t/td0, jpjm_t1/j2max, '-.', label = r\"$|\\frac{N}{2},\\frac{N}{2}\\rangle$\")\n",
    "plt.plot(t/td0, jpjm_t2/j2max, '-', label = r\"$|\\frac{N}{2},0\\rangle$\")\n",
    "plt.plot(t/td0, jpjm_t3/j2max, '-', label = r\"$|+\\rangle_\\mathrm{CSS}$\", linewidth = 2)\n",
    "plt.plot(t/td0, jpjm_t4/j2max, '-', label = r\"$|-\\rangle_\\mathrm{CSS}$\")\n",
    "plt.plot(t/td0,jpjm_t5/j2max, '-', label = r\"$|0,0\\rangle$\")\n",
    "plt.plot(t/td0,jpjm_t6/j2max, '--', label = r\"$|\\mathrm{GHZ}\\rangle$\")\n",
    "#plt.ylim([0,1])\n",
    "plt.xticks([0,(tmax/2)/td0,tmax/td0])\n",
    "plt.yticks([0,0.5,1])\n",
    "plt.xlabel(r'$t/t_\\mathrm{D}$', fontsize = label_size3)\n",
    "plt.ylabel(r'$\\langle J_{+}J_{-}\\rangle(t)$', fontsize = label_size3)\n",
    "plt.legend(fontsize = label_size4, ncol = 2)\n",
    "\n",
    "# plot\n",
    "plt.title(r'Light Emission', fontsize = label_size3)    \n",
    "plt.show()\n",
    "plt.close()\n",
    "\n",
    "fig3 = plt.figure()\n",
    "djz1 = (jz2_t1- jz_t1**2)/jmax**2\n",
    "djz2 = (jz2_t2- jz_t2**2)/jmax**2\n",
    "djz3 = (jz2_t3- jz_t3**2)/jmax**2\n",
    "djz4 = (jz2_t4- jz_t4**2)/jmax**2\n",
    "djz5 = (jz2_t5- jz_t5**2)/jmax**2\n",
    "djz6 = (jz2_t6- jz_t6**2)/jmax**2\n",
    "\n",
    "plt.plot(t/td0, djz1, '-.', label = r\"$|\\frac{N}{2},\\frac{N}{2}\\rangle$\")\n",
    "plt.plot(t/td0, djz2, '-', label = r\"$|\\frac{N}{2},0\\rangle$\")\n",
    "plt.plot(t/td0, djz3, '-', label = r\"$|+\\rangle_\\mathrm{CSS}$\")\n",
    "plt.plot(t/td0, djz4, '-', label = r\"$|-\\rangle_\\mathrm{CSS}$\")\n",
    "plt.plot(t/td0, djz5, '-', label = r\"$|0,0\\rangle$\")\n",
    "plt.plot(t/td0, djz6, '--', label = r\"$|\\mathrm{GHZ}\\rangle$\")\n",
    "#plt.ylim([-1,1])\n",
    "plt.xticks([0,(tmax/2)/td0,tmax/td0])\n",
    "plt.yticks([0,0.5,1])\n",
    "plt.xlabel(r'$t/t_\\mathrm{D}$', fontsize = label_size3)\n",
    "plt.ylabel(r'$\\Delta J_{z}^2(t)$', fontsize = label_size3)\n",
    "plt.rc('xtick', labelsize=label_size) \n",
    "plt.rc('ytick', labelsize=label_size)\n",
    "plt.legend(fontsize = label_size4, ncol = 2)\n",
    "plt.title(r'Second-moment Collective Correlations', fontsize = label_size3)\n",
    "plt.show()\n",
    "plt.close()"
   ]
  },
  {
   "cell_type": "markdown",
   "metadata": {},
   "source": [
    "We have found very different time evolutions for different quantum states that experience the same dynamics, leading to superradiant light emission, subradiance, delayed superradiant decay (superfluorescence), and macroscopic quantum correlations. \n"
   ]
  },
  {
   "cell_type": "markdown",
   "metadata": {},
   "source": [
    "#### References\n",
    "\n",
    "[1] R. H. Dicke, Coherence in spontaneous radiation processes, *Phys. Rev.* **93**, 99 (1954) \n",
    "\n",
    "[2] R. Bonifacio, P. Schwendimann, and F. Haake, Quantum statistical theory of superradiance. I, *Phys. Rev. A* **4**, 302 (1971); ibid. **4**, 854 (1971); \n",
    "R. Bonifacio and L. A. Lugiato, Cooperative radiation processes in two-level systems: Superfluorescence, *Phys. Rev. A* **11**, 1507 (1975)\n",
    "\n",
    "[3]  N. Shammah, N. Lambert, F. Nori, and S. De Liberato, Superradiance with local phase-breaking effects, *Phys. Rev. A* **96**, 023863 (2017)\n",
    "\n",
    "[4] N. Shammah, S. Ahmed, N. Lambert, S. De Liberato, and F. Nori, Open quantum systems with local and collective incoherent processes: Efficient numerical simulation using permutational invariance, https://arxiv.org/abs/1805.05129 and https://github.com/nathanshammah/piqs/\n",
    "\n",
    "[5] G. T. Noe II, J.-H. Kim, J. Lee, Y. Wang, A. K. Wojcik, S. A. McGill, D. H. Reitze, A. A. Belyanin, and J. Kono, Giant superfluorescent bursts from a semiconductor magneto-plasma, *Nature Phys.* **8**, 219 (2012)\n",
    "\n",
    "[6] T. Bienaimé, N. Piovella, and R. Kaiser, Controlled Dicke subradiance from a large cloud of two-level systems, *Phys. Rev. Lett.* **108**, 123602 (2012)\n",
    "\n",
    "[7] A. F. van Loo, A. Fedorov, K. Lalumière, B. C. Sanders, A. Blais, and A. Wallraff, Photon-mediated interactions between distant artificial atoms, *Science* **342**, 1494 (2013)\n",
    "\n",
    "[8] A. Goban, C.-L. Hung, J. D. Hood, S.-P. Yu, J. A. Muniz, O. Painter, and H. J. Kimble, Superradiance for atoms trapped along a photonic crystal waveguide, *Phys. Rev. Lett.* **115**, 063601 (2015)\n",
    "\n",
    "[9]  C. Bradac, M. T. Johnsson, M. v. Breugel, B. Q. Baragiola, R. Martin, M. L. Juan, G. K. Brennen, and T. Volz, Room-temperature spontaneous superradiance from single diamond nanocrystals, *Nature Commun.* **8**,\n",
    "1205 (2017)\n",
    "\n",
    "[10]  A. Angerer, K. Streltsov, T. Astner, S. Putz, H. Sumiya, S. Onoda, W. J. Munro, K. Nemoto, J. Schmiedmayer, and J. Majer, Superradiant hybrid quantum devices, arXiv:1802.07100 (2018)\n",
    "\n",
    "[11] P. Kirton and J. Keeling, Superradiant and lasing states in driven-dissipative Dicke models, New J. Phys. 20, 015009 (2018).\n",
    "\n",
    "[12] J.R. Johansson, P.D. Nation, and F. Nori, *Comp. Phys. Comm.* **183**, 1760 (2012) http://qutip.org"
   ]
  },
  {
   "cell_type": "code",
   "execution_count": 7,
   "metadata": {},
   "outputs": [
    {
     "name": "stdout",
     "output_type": "stream",
     "text": [
      "\n",
      "QuTiP: Quantum Toolbox in Python\n",
      "Copyright (c) 2011 and later.\n",
      "A. J. Pitchford, P. D. Nation, R. J. Johansson, A. Grimsmo, and C. Granade\n",
      "\n",
      "QuTiP Version:      4.3.0\n",
      "Numpy Version:      1.13.3\n",
      "Scipy Version:      1.0.0\n",
      "Cython Version:     0.27.3\n",
      "Matplotlib Version: 2.1.1\n",
      "Python Version:     3.6.3\n",
      "Number of CPUs:     2\n",
      "BLAS Info:          INTEL MKL\n",
      "OPENMP Installed:   False\n",
      "INTEL MKL Ext:      True\n",
      "Platform Info:      Darwin (x86_64)\n",
      "Installation path:  /Users/nathanshammah/Downloads/Applications/lib/python3.6/site-packages/qutip\n",
      "==============================================================================\n",
      "Please cite QuTiP in your publication.\n",
      "==============================================================================\n",
      "For your convenience a bibtex file can be easily generated using `qutip.cite()`\n"
     ]
    }
   ],
   "source": [
    "qutip.about()"
   ]
  },
  {
   "cell_type": "code",
   "execution_count": null,
   "metadata": {},
   "outputs": [],
   "source": []
  }
 ],
 "metadata": {
  "kernelspec": {
   "display_name": "Python 3",
   "language": "python",
   "name": "python3"
  },
  "language_info": {
   "codemirror_mode": {
    "name": "ipython",
    "version": 3
   },
   "file_extension": ".py",
   "mimetype": "text/x-python",
   "name": "python",
   "nbconvert_exporter": "python",
   "pygments_lexer": "ipython3",
   "version": "3.6.3"
  }
 },
 "nbformat": 4,
 "nbformat_minor": 2
}
