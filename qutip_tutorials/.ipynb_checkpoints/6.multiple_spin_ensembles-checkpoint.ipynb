{
 "cells": [
  {
   "cell_type": "markdown",
   "metadata": {},
   "source": [
    "## Dynamics of multiple spin enembles: two driven-dissipative ensembles \n",
    "\n",
    "Notebook author: Nathan Shammah (nathan.shammah at gmail.com)\n",
    "\n",
    "We use the Permutational Invariant Quantum Solver (PIQS) library, imported in QuTiP as $\\texttt{qutip.piqs}$ to study the driven-dissipative open quantum dynamics of multiple two-level-system (TLS), or spin, ensembles.\n",
    "\n",
    "We consider a system of two TLS ensembles with populations $N_1$ and $N_2$ with identical frequency $\\omega_{0}$ with collective pumping and collective emission at identical rates, $\\gamma_\\text{CE}=(1+\\bar{n})\\gamma_0$ and $\\gamma_\\text{CP}=\\bar{n}\\gamma_0$, respectively, with $\\bar{n}=\\frac{1}{e^{\\hbar\\omega_0/k_\\mathrm{B}T}-1}$ and \n",
    "\n",
    "\\begin{eqnarray}\n",
    "\\dot{\\rho} &=& \n",
    "-i\\lbrack \\omega_{0}\\left(J_z^{(1)}+J_z^{(2)}\\right),\\rho \\rbrack\n",
    "+\\frac{\\gamma_\\text {CE}}{2}\\mathcal{L}_{J_{-}^{(1)}+ J_{-}^{(2)}}[\\rho]\n",
    "+\\frac{\\gamma_\\text {CP}}{2}\\mathcal{L}_{J_{+}^{(1)}+J_{+}^{(2)}}[\\rho]\n",
    "\\end{eqnarray}\n",
    "\n",
    "Ref. [2] has shown that for $N_1<N_2$, if the system is initialized in the state $|{\\psi_0}\\rangle=|{\\downarrow\\cdots\\downarrow}\\rangle_1\\otimes|{\\uparrow\\cdots\\uparrow}\\rangle_2$, the system relaxes to a steady state for which the first subsystem is excited, i.e. $\\langle J_z^{(1)}(\\infty)\\rangle>0$ and for some parameters  $\\frac{\\langle J_z^{(1)}(\\infty)\\rangle}{(N_1/2)}\\rightarrow 0.5$, also in the limit of zero temperature, $T\\rightarrow 0$.  \n",
    "\n",
    "Notice that $\\mathcal{L}_{J_{-}^{(1)}+ J_{-}^{(2)}}[\\rho]\\neq \\mathcal{L}_{J_{-}^{(1)}}[\\rho]+\\mathcal{L}_{ J_{-}^{(2)}}[\\rho]$, which is a case treated in Ref. [3] two obtain syncronized ensembles of atoms. \n",
    "\n",
    "Here we explore what happens when to the master equation of Eq. (1) one adds also collective and local terms relative to single ensembles, \n",
    "\n",
    "\\begin{eqnarray}\n",
    "\\dot{\\rho} &=& \n",
    "-i\\lbrack \\omega_{0}\\left(J_z^{(1)}+J_z^{(2)}\\right),\\rho \\rbrack\n",
    "+\\frac{\\gamma_\\text{CE}}{2}\\mathcal{L}_{J_{-}^{(1)}+ J_{-}^{(2)}}[\\rho]\n",
    "+\\frac{\\gamma_\\text{CP}}{2}\\mathcal{L}_{J_{+}^{(1)}+J_{+}^{(2)}}[\\rho]\\\\\n",
    "&& +\\frac{\\gamma_\\text{CEi}}{2}\\mathcal{L}_{J_{-}^{(1)}}[\\rho]\n",
    "+\\frac{\\gamma_\\text{CEi}}{2}\\mathcal{L}_{J_{-}^{(2)}}[\\rho]\n",
    "+\\sum_{n}^{N_1}\\frac{\\gamma_\\text{E}}{2}\\mathcal{L}_{J_{-,n}^{(1)}}[\\rho]+\\frac{\\gamma_\\text{D}}{2}\\mathcal{L}_{J_{z,n}^{(1)}}[\\rho]+\\sum_{n}^{N_2}\\frac{\\gamma_\\text{E}}{2}\\mathcal{L}_{J_{-,n}^{(2)}}[\\rho]+\\frac{\\gamma_\\text{D}}{2}\\mathcal{L}_{J_{z,n}^{(2)}}[\\rho]\n",
    "\\end{eqnarray}\n",
    "\n",
    "where $\\gamma_\\text {CEi}$ is the rate of superradiant decay for the individual ensembles of TLSs, $\\gamma_\\text{E}$ and $\\gamma_\\text{D}$ are the rates of local emission and dephasing.\n",
    "\n",
    "Firstly, we will show how the collective dynamics of Eq. (1) can be investigated in a simple way using QuTiP's [4] $\\texttt{jmat}$ function, which defines collective spins for maximally symmetric states in a Hilbert space of dimension $N_i+1$.\n",
    "\n",
    "Secondly, we will exploit the permutational invariance of the local processes in Eq. (2) to investigate the exact dynamics using the Dicke basis, $\\rho = \\sum_{j,m,m'}p_{jmm'}|j,m\\rangle\\langle j,m'|$ [1], where $p_{jmm'}$ is a probability density. We will do so numerically using the PIQS library [1]. \n",
    "\n",
    "In the following we might use in plots thefollowing equivalent notation $\\gamma_\\text {CE}=\\gamma_\\Downarrow$ (gCE),\n",
    "$\\gamma_\\text {CP}=\\gamma_\\Uparrow$ (gCP), $\\gamma_\\text {E}=\\gamma_\\downarrow$ (gE), $\\gamma_\\text {P}=\\gamma_\\uparrow$ (gP), and \n",
    "$\\gamma_\\text {D}=\\gamma_\\phi$ (gD)."
   ]
  },
  {
   "cell_type": "code",
   "execution_count": 1,
   "metadata": {},
   "outputs": [],
   "source": [
    "from qutip import *\n",
    "from qutip.piqs import *\n",
    "import matplotlib.pyplot as plt\n",
    "from scipy import constants"
   ]
  },
  {
   "cell_type": "markdown",
   "metadata": {},
   "source": [
    "# 1) Collective processes only (QuTiP $\\texttt{jmat}$)"
   ]
  },
  {
   "cell_type": "markdown",
   "metadata": {},
   "source": [
    "### System properties - QuTiP jmat()\n",
    "QuTiP's jmat() functions span the symmetric (N+1)-dimensional Hilbert space. They can be used to efficiently investigate the collective dynamics only."
   ]
  },
  {
   "cell_type": "code",
   "execution_count": 2,
   "metadata": {},
   "outputs": [
    {
     "name": "stdout",
     "output_type": "stream",
     "text": [
      "n0 = 1309202.45774\n",
      "gCE = 1309203.45774\n",
      "gCP = 1309202.45774\n"
     ]
    }
   ],
   "source": [
    "# Number of TLSs in the two ensembles\n",
    "N1 = 1\n",
    "N2 = 4\n",
    "N = N1 + N2\n",
    "\n",
    "# TLSs bare frequency\n",
    "w0 = 1\n",
    "\n",
    "# Bose-Einstein distribution determines the occupation number\n",
    "giga = 10**(6)\n",
    "frequency_hertz = w0*10*giga \n",
    "temperature_kelvin = 10**(2)\n",
    "x = (frequency_hertz / temperature_kelvin) * (constants.hbar / constants.Boltzmann)\n",
    "n0 = 1/(np.exp(x)-1)\n",
    "print(\"n0 =\",n0)\n",
    "\n",
    "# set collective pumping and collective emission rates (coupled ensembles) \n",
    "g0 = 1\n",
    "gCE = g0 * (1 + n0)\n",
    "gCP = g0 * n0\n",
    "print(\"gCE =\", gCE)\n",
    "print(\"gCP =\", gCP)\n",
    "\n",
    "# define identity operators and norms in the tensor space \n",
    "dim1_mat = N1 + 1\n",
    "dim2_mat = N2 + 1\n",
    "id1_mat = qeye(dim1_mat)\n",
    "id2_mat = qeye(dim2_mat)\n",
    "norm2 = id2_mat.tr()\n",
    "norm1 = id1_mat.tr()\n",
    "\n",
    "# build collective spin operators for N1 and N2  \n",
    "jx1_mat = jmat(N1/2,\"x\")\n",
    "jx2_mat = jmat(N2/2,\"x\")\n",
    "jy1_mat = jmat(N1/2,\"y\")\n",
    "jy2_mat = jmat(N2/2,\"y\")\n",
    "jz1_mat = jmat(N1/2,\"z\")\n",
    "jz2_mat = jmat(N2/2,\"z\")\n",
    "jm1_mat = jmat(N1/2,\"-\")\n",
    "jm2_mat = jmat(N2/2,\"-\")\n",
    "\n",
    "# place collective spin operators in tensor space (N1 + N2)  \n",
    "jz1_tot = tensor(jz1_mat, id2_mat)\n",
    "jz2_tot = tensor(id1_mat, jz2_mat)\n",
    "jx12_mat = tensor(jx1_mat, id2_mat) + tensor(id1_mat, jx2_mat)\n",
    "jy12_mat = tensor(jy1_mat, id2_mat) + tensor(id1_mat, jy2_mat)\n",
    "jz12_mat = tensor(jz1_mat, id2_mat) + tensor(id1_mat, jz2_mat)\n",
    "jm12_mat = tensor(jm1_mat, id2_mat) + tensor(id1_mat, jm2_mat) \n",
    "jp12_mat = jm12_mat.dag()\n",
    "\n",
    "# define Hamiltonian  \n",
    "h1_mat = w0 * jz1_mat\n",
    "h2_mat = w0 * jz2_mat\n",
    "htot = tensor(h1_mat, id2_mat) + tensor(id1_mat, h2_mat) \n",
    "\n",
    "# build Liouvillian using QuTiP\n",
    "collapse_operators = [np.sqrt(gCE)*jm12_mat, np.sqrt(gCP)*jp12_mat]\n",
    "L_collective = liouvillian(htot, collapse_operators)"
   ]
  },
  {
   "cell_type": "code",
   "execution_count": 3,
   "metadata": {},
   "outputs": [
    {
     "name": "stdout",
     "output_type": "stream",
     "text": [
      "True\n",
      "True\n"
     ]
    }
   ],
   "source": [
    "#Check the algebra of the spin operators in the tensor space\n",
    "\n",
    "print(jp12_mat*jm12_mat - jm12_mat*jp12_mat == 2*jz12_mat)\n",
    "print(jx12_mat*jy12_mat - jy12_mat*jx12_mat == 1j*jz12_mat)"
   ]
  },
  {
   "cell_type": "markdown",
   "metadata": {},
   "source": [
    "### Time integration"
   ]
  },
  {
   "cell_type": "code",
   "execution_count": 4,
   "metadata": {},
   "outputs": [],
   "source": [
    "# set superradiant delay time for the excited ensemble (N2)\n",
    "td0 = np.log(N2)/(N2*gCE)\n",
    "tmax = 30 * td0\n",
    "nt = 1001\n",
    "t = np.linspace(0, tmax, nt)\n",
    "\n",
    "#set initial tensor state for spins (Use QuTiP's jmat() basis)\n",
    "excited1 = np.zeros(jz1_mat.shape)\n",
    "excited2 = np.zeros(jz2_mat.shape)\n",
    "ground1 = np.zeros(jz1_mat.shape)\n",
    "ground2 = np.zeros(jz2_mat.shape)\n",
    "excited1[0,0] = 1\n",
    "excited2[0,0] = 1\n",
    "ground1[-1,-1] = 1\n",
    "ground2[-1,-1] = 1\n",
    "\n",
    "excited1 = Qobj(excited1)\n",
    "excited2 = Qobj(excited2)\n",
    "ground1 = Qobj(ground1)\n",
    "ground2 = Qobj(ground2)\n",
    "\n",
    "sdp =  tensor(excited1, excited2)\n",
    "sdap =  tensor(ground1, excited2)\n",
    "ground12 =  tensor(ground1, ground2)\n",
    "\n",
    "rho0 = sdap"
   ]
  },
  {
   "cell_type": "code",
   "execution_count": 5,
   "metadata": {},
   "outputs": [],
   "source": [
    "#solve using qutip (using QuTiP's jmat() basis)\n",
    "result = mesolve(L_collective, rho0, t, [], \n",
    "                 e_ops = [jz12_mat, jz1_tot, jz2_tot], \n",
    "                 options = Options(store_states=True))\n",
    "rhot = result.states\n",
    "jzt = result.expect[0]\n",
    "jz1t = result.expect[1]\n",
    "jz2t = result.expect[2]"
   ]
  },
  {
   "cell_type": "markdown",
   "metadata": {},
   "source": [
    "### Visualization"
   ]
  },
  {
   "cell_type": "code",
   "execution_count": 6,
   "metadata": {},
   "outputs": [
    {
     "data": {
      "image/png": "[encoded data removed]",
      "text/plain": [
       "<matplotlib.figure.Figure at 0x1a1c39de80>"
      ]
     },
     "metadata": {},
     "output_type": "display_data"
    }
   ],
   "source": [
    "# plot jz1t, jz2t, jz12t\n",
    "\n",
    "j2max = (0.5 * N + 1) * (0.5 * N)\n",
    "jmax = 0.5 * N \n",
    "j1max = 0.5 * N1\n",
    "j2max = 0.5 * N2 \n",
    "\n",
    "label_size = 20\n",
    "plt.rc('text', usetex = True)\n",
    "plt.rc('xtick', labelsize = label_size) \n",
    "plt.rc('ytick', labelsize = label_size)\n",
    "\n",
    "fig_size = (12, 6)\n",
    "lw = 2\n",
    "\n",
    "fig1 = plt.figure(figsize = fig_size)\n",
    "plt.plot(t/td0, jzt/jmax, '-', label = r\"$\\langle J_{z,\\mathrm{ tot}}\\rangle$\", linewidth = 2*lw)\n",
    "plt.plot(t/td0, jz1t/j1max, '--', label = r\"$\\langle J_{z,1}\\rangle$\", linewidth = lw)\n",
    "plt.plot(t/td0, jz2t/j2max, '-.', label = r\"$\\langle J_{z,2}\\rangle$\", linewidth = lw)\n",
    "plt.xlabel(r'$t/t_\\text{D}$', fontsize = label_size)\n",
    "plt.ylabel(r'$\\langle J_z(t)\\rangle$', fontsize = label_size)\n",
    "plt.xticks([0, (tmax/2)/td0, tmax/td0])\n",
    "plt.legend(fontsize = label_size)\n",
    "plt.show()\n",
    "plt.close()\n"
   ]
  },
  {
   "cell_type": "code",
   "execution_count": 7,
   "metadata": {},
   "outputs": [
    {
     "name": "stdout",
     "output_type": "stream",
     "text": [
      "True\n",
      "True\n"
     ]
    }
   ],
   "source": [
    "# check partial traces\n",
    "print(jz12_mat.ptrace(0)/norm2 == jz1_mat)\n",
    "print(jz12_mat.ptrace(1)/norm1 == jz2_mat)\n",
    "\n",
    "rho1pt = rho0.ptrace(0)\n",
    "rho2pt = rho0.ptrace(1)"
   ]
  },
  {
   "cell_type": "markdown",
   "metadata": {},
   "source": [
    "# 2) Local-collective processes in the Dicke basis (PIQS + QuTiP)"
   ]
  },
  {
   "cell_type": "markdown",
   "metadata": {},
   "source": [
    "### System general and collective properties - QuTiP in the Dicke basis"
   ]
  },
  {
   "cell_type": "code",
   "execution_count": 8,
   "metadata": {},
   "outputs": [
    {
     "name": "stdout",
     "output_type": "stream",
     "text": [
      "occupation number, n0 =  0.000481909935526\n"
     ]
    }
   ],
   "source": [
    "# Number of TLSs in the two ensembles\n",
    "N1 = 5\n",
    "N2 = 15\n",
    "N = N1 + N2\n",
    "# local-collective simulations with this system size take approx 5 minutes on a MacBook Pro for time integration\n",
    "\n",
    "# TLSs bare frequency\n",
    "w0 = 1\n",
    "\n",
    "# Bose-Einstein distribution determines the occupation number\n",
    "# low temperature limit\n",
    "frequency_hertz = 10**(13)\n",
    "temperature_kelvin = 10**(1)\n",
    "x = (frequency_hertz / temperature_kelvin) * (constants.hbar / constants.Boltzmann)\n",
    "n0 = 1/(np.exp(x) -1)\n",
    "print(\"occupation number, n0 = \",n0)\n",
    "\n",
    "# set collective pumping and collective emission rates (coupled ensembles) \n",
    "g0 = 1\n",
    "gCE = g0 * (1 + n0)\n",
    "gCP = g0 * n0\n",
    "\n",
    "# Local rates\n",
    "gE = 1\n",
    "gD = 1\n",
    "\n",
    "# Collective rates of the single ensembles\n",
    "gCEi = 1\n",
    "\n",
    "# Algebra in the Dicke basis\n",
    "[jx1_dicke, jy1_dicke, jz1_dicke] = jspin(N1)\n",
    "jp1_dicke  = jspin(N1,\"+\")\n",
    "jm1_dicke = jp1_dicke.dag()\n",
    "[jx2_dicke, jy2_dicke, jz2_dicke] = jspin(N2)\n",
    "jp2_dicke  = jspin(N2,\"+\")\n",
    "jm2_dicke = jp2_dicke.dag()\n",
    "# Bulding the tensor space for N1 + N2\n",
    "dim1_dicke = num_dicke_states(N1)\n",
    "dim2_dicke = num_dicke_states(N2)\n",
    "id1_dicke = qeye(dim1_dicke)\n",
    "id2_dicke = qeye(dim2_dicke)\n",
    "norm2_dicke = id2_dicke.tr()\n",
    "norm1_dicke = id1_dicke.tr()\n",
    "\n",
    "# Place operators of a single ensemble (N1 or N2) in the tensor space\n",
    "jz1_dicke_tot = tensor(jz1_dicke, id2_dicke)\n",
    "jz2_dicke_tot = tensor(id1_dicke, jz2_dicke)\n",
    "\n",
    "# Place operators of two ensemble (N1 + N2) in the tensor space\n",
    "jx12_dicke = tensor(jx1_dicke, id2_dicke) + tensor(id1_dicke, jx2_dicke)\n",
    "jy12_dicke = tensor(jy1_dicke, id2_dicke) + tensor(id1_dicke, jy2_dicke)\n",
    "jz12_dicke = tensor(jz1_dicke, id2_dicke) + tensor(id1_dicke, jz2_dicke)\n",
    "jm12_dicke = tensor(jm1_dicke, id2_dicke) + tensor(id1_dicke, jm2_dicke)\n",
    "jp12_dicke = jm12_dicke.dag()\n",
    "\n",
    "h1_dicke = w0 * jz1_dicke\n",
    "h2_dicke = w0 * jz2_dicke\n",
    "\n",
    "htot = tensor(h1_dicke, id2_dicke) + tensor(id1_dicke, h2_dicke) \n",
    "\n",
    "# Build the collective Liovillian (Hamiltonian + collective Lindbladian)\n",
    "L_collective_dicke = liouvillian(htot,[np.sqrt(gCE)*jm12_dicke, np.sqrt(gCP)*jp12_dicke])"
   ]
  },
  {
   "cell_type": "code",
   "execution_count": 9,
   "metadata": {},
   "outputs": [
    {
     "name": "stdout",
     "output_type": "stream",
     "text": [
      "True\n",
      "True\n"
     ]
    }
   ],
   "source": [
    "# check algebra relations in tensor space\n",
    "print(jp12_dicke * jm12_dicke - jm12_dicke * jp12_dicke == 2*jz12_dicke)\n",
    "print(jx12_dicke * jy12_dicke - jy12_dicke * jx12_dicke == 1j*jz12_dicke)"
   ]
  },
  {
   "cell_type": "markdown",
   "metadata": {},
   "source": [
    "### System local properties - Building local Lindbladians with PIQS"
   ]
  },
  {
   "cell_type": "code",
   "execution_count": 10,
   "metadata": {},
   "outputs": [
    {
     "name": "stdout",
     "output_type": "stream",
     "text": [
      "case 1\n",
      "case 2\n",
      "case 3\n",
      "case 4\n"
     ]
    }
   ],
   "source": [
    "## Define Piqs objects\n",
    "\n",
    "# case 1: only collective coupled processes (already defined above)\n",
    "system1 = Dicke(N = N1)\n",
    "system2 = Dicke(N = N2)\n",
    "\n",
    "# case 2: collective coupled processes + dephasing\n",
    "system1gD = Dicke(N = N1)\n",
    "system2gD = Dicke(N = N2)\n",
    "\n",
    "system1gD.dephasing = gD\n",
    "system2gD.dephasing = gD\n",
    "\n",
    "# case 3: collective coupled processes + local emission\n",
    "system1gE = Dicke(N = N1)\n",
    "system2gE = Dicke(N = N2)\n",
    "\n",
    "system1gE.emission = gE\n",
    "system2gE.emission = gE\n",
    "\n",
    "# case 4: collective coupled processes + collective emission of single ensembles\n",
    "system1gCEi = Dicke(N = N1)\n",
    "system2gCEi = Dicke(N = N2)\n",
    "\n",
    "system1gCEi.collective_emission = gCEi\n",
    "system2gCEi.collective_emission = gCEi\n",
    "\n",
    "# Define identity operators in tensor space\n",
    "id_tls1 = to_super(qeye(dim1_dicke))\n",
    "id_tls2 = to_super(qeye(dim2_dicke))\n",
    "\n",
    "###Build the Lindbladians\n",
    "\n",
    "## case 1\n",
    "L1_local_dicke = system1.liouvillian()\n",
    "L2_local_dicke = system2.liouvillian()\n",
    "print(\"case 1\")\n",
    "# Build local Lindbladians in tensor space\n",
    "L_local_dicke = super_tensor(L1_local_dicke, id_tls2) + super_tensor(id_tls1, L2_local_dicke)\n",
    "\n",
    "# Total local-collective Liouvillian in tensor space\n",
    "L_dicke_tot = L_collective_dicke + L_local_dicke \n",
    "\n",
    "\n",
    "## case 2\n",
    "L1gD_local_dicke = system1gD.liouvillian()\n",
    "L2gD_local_dicke = system2gD.liouvillian()\n",
    "print(\"case 2\")\n",
    "# Build local Lindbladians in tensor space\n",
    "LgD_local_dicke = super_tensor(L1gD_local_dicke, id_tls2) + super_tensor(id_tls1, L2gD_local_dicke)\n",
    "\n",
    "# Total local-collective Liouvillian in tensor space\n",
    "LgD_dicke_tot = L_collective_dicke + LgD_local_dicke \n",
    "\n",
    "\n",
    "## case 3\n",
    "L1gE_local_dicke = system1gE.liouvillian()\n",
    "L2gE_local_dicke = system2gE.liouvillian()\n",
    "print(\"case 3\")\n",
    "# Build local Lindbladians in tensor space\n",
    "LgE_local_dicke = super_tensor(L1gE_local_dicke, id_tls2) + super_tensor(id_tls1, L2gE_local_dicke)\n",
    "\n",
    "# Total local-collective Liouvillian in tensor space\n",
    "LgE_dicke_tot = L_collective_dicke + LgE_local_dicke \n",
    "\n",
    "\n",
    "## case 4\n",
    "L1gCEi_local_dicke = system1gCEi.liouvillian()\n",
    "L2gCEi_local_dicke = system2gCEi.liouvillian()\n",
    "\n",
    "# Build local Lindbladians in tensor space\n",
    "LgCEi_local_dicke = super_tensor(L1gCEi_local_dicke, id_tls2) + super_tensor(id_tls1, L2gCEi_local_dicke)\n",
    "\n",
    "# Total local-collective Liouvillian in tensor space\n",
    "LgCEi_dicke_tot = L_collective_dicke + LgCEi_local_dicke \n",
    "print(\"case 4\")"
   ]
  },
  {
   "cell_type": "code",
   "execution_count": 11,
   "metadata": {},
   "outputs": [],
   "source": [
    "## Initial conditions\n",
    "# set superradiant delay time for the excited ensemble (N2)\n",
    "td0 = np.log(N2)/(N2*gCE)\n",
    "tmax = 30 * td0\n",
    "nt = 1001\n",
    "t = np.linspace(0, tmax, nt)\n",
    "\n",
    "# set initial tensor state for spins (Use QuTiP's jmat() basis)\n",
    "excited1_dicke = excited(N1)\n",
    "excited2_dicke = excited(N2)\n",
    "ground1_dicke = ground(N1)\n",
    "ground2_dicke = ground(N2)\n",
    "\n",
    "sdp_dicke =  tensor(excited1_dicke, excited2_dicke)\n",
    "sdap_dicke =  tensor(ground1_dicke, excited2_dicke)\n",
    "ground12_dicke =  tensor(ground1_dicke, ground2_dicke)\n",
    "\n",
    "rho0_dicke = sdap_dicke"
   ]
  },
  {
   "cell_type": "code",
   "execution_count": 12,
   "metadata": {},
   "outputs": [
    {
     "name": "stdout",
     "output_type": "stream",
     "text": [
      "case 1\n",
      "case 2\n",
      "case 3\n",
      "case 4\n"
     ]
    }
   ],
   "source": [
    "## Solve using qutip (using the Dicke basis)\n",
    "\n",
    "# case 1\n",
    "result_0 = mesolve(L_dicke_tot, rho0_dicke, t, [], \n",
    "                   e_ops = [jz12_dicke, jz1_dicke_tot, jz2_dicke_tot], \n",
    "                   options = Options(store_states=True))\n",
    "rhot_0 = result_0.states\n",
    "jzt_0 = result_0.expect[0]\n",
    "jz1t_0 = result_0.expect[1]\n",
    "jz2t_0 = result_0.expect[2]\n",
    "print(\"case 1\")\n",
    "# case 2\n",
    "result_gD = mesolve(LgD_dicke_tot, rho0_dicke, t, [], \n",
    "                    e_ops = [jz12_dicke, jz1_dicke_tot, jz2_dicke_tot], \n",
    "                    options = Options(store_states=True))\n",
    "rhot_gD = result_gD.states\n",
    "jzt_gD = result_gD.expect[0]\n",
    "jz1t_gD = result_gD.expect[1]\n",
    "jz2t_gD = result_gD.expect[2]\n",
    "print(\"case 2\")\n",
    "# case 3\n",
    "result_gE = mesolve(LgE_dicke_tot, rho0_dicke, t, [], \n",
    "                    e_ops = [jz12_dicke, jz1_dicke_tot, jz2_dicke_tot], \n",
    "                    options = Options(store_states=True))\n",
    "rhot_gE = result_gE.states\n",
    "jzt_gE = result_gE.expect[0]\n",
    "jz1t_gE = result_gE.expect[1]\n",
    "jz2t_gE = result_gE.expect[2]\n",
    "print(\"case 3\")\n",
    "# case 4\n",
    "result_gCEi = mesolve(LgCEi_dicke_tot, rho0_dicke, t, [], \n",
    "                      e_ops = [jz12_dicke, jz1_dicke_tot, jz2_dicke_tot], \n",
    "                      options = Options(store_states=True))\n",
    "rhot_gCEi = result_gCEi.states\n",
    "jzt_gCEi = result_gCEi.expect[0]\n",
    "jz1t_gCEi = result_gCEi.expect[1]\n",
    "jz2t_gCEi = result_gCEi.expect[2]\n",
    "print(\"case 4\")"
   ]
  },
  {
   "cell_type": "markdown",
   "metadata": {},
   "source": [
    "### Visualization with parameter dependence"
   ]
  },
  {
   "cell_type": "code",
   "execution_count": 13,
   "metadata": {},
   "outputs": [
    {
     "data": {
      "image/png": "[encoded data removed]",
      "text/plain": [
       "<matplotlib.figure.Figure at 0x1a1e6d5470>"
      ]
     },
     "metadata": {},
     "output_type": "display_data"
    },
    {
     "data": {
      "image/png": "[encoded data removed]",
      "text/plain": [
       "<matplotlib.figure.Figure at 0x1a1e71f898>"
      ]
     },
     "metadata": {},
     "output_type": "display_data"
    }
   ],
   "source": [
    "## Plots jz1t, jz2t, jz12t in the Dicke basis for different parameter values\n",
    "\n",
    "#spin normalization constants\n",
    "j2_max = (0.5 * N + 1) * (0.5 * N)\n",
    "jmax = 0.5 * N \n",
    "j1max = 0.5 * N1\n",
    "j2max = 0.5 * N2 \n",
    "\n",
    "#plot graphics properties\n",
    "plt.rc('text', usetex = True)\n",
    "label_size = 20\n",
    "fig_size = (14, 7)\n",
    "lw = 2\n",
    "lw1 = 1*lw\n",
    "lw2 = 1*lw\n",
    "lw3 = 1*lw\n",
    "\n",
    "fig1 = plt.figure(figsize=(7,4))\n",
    "plt.rc('xtick', labelsize = label_size) \n",
    "plt.rc('ytick', labelsize = label_size)\n",
    "\n",
    "plt.plot(t/td0, jz1t_0/j1max, '-k', label = r\"$\\gamma_\\Downarrow$ Only\", linewidth = lw)\n",
    "plt.plot(t/td0, jz2t_0/j2max, '-r', linewidth = lw)\n",
    "\n",
    "plt.plot(t/td0, jz1t_gE/j1max, '--k', label = r\"$\\gamma_\\downarrow=\\gamma_\\Downarrow$\", linewidth = lw2)\n",
    "plt.plot(t/td0, jz2t_gE/j2max, '--r', linewidth = lw2)\n",
    "\n",
    "\n",
    "plt.rcParams['text.latex.preamble']=[r\"\\usepackage{xcolor}\"]\n",
    "plt.xlabel(r'$t/t_\\text{D}$', fontsize = label_size)\n",
    "\n",
    "#make double label y-axis - STARTS\n",
    "left = -5.5\n",
    "center = 0\n",
    "yshift = -0.4\n",
    "#label Jz1\n",
    "plt.text(left, center+yshift,r'$\\langle J_{z}^{(1)}(t)\\rangle$,',\n",
    "         horizontalalignment = 'right',\n",
    "         verticalalignment='center',\n",
    "         color = \"k\", rotation='vertical',fontsize = label_size)\n",
    "\n",
    "#label Jz2\n",
    "plt.text(left, center-yshift, r' $\\langle J_{z}^{(2)}(t)\\rangle$',\n",
    "        horizontalalignment='right', verticalalignment='center',\n",
    "         color = \"r\", rotation='vertical',fontsize = label_size)\n",
    "#make double label y-axis - ENDS\n",
    "\n",
    "plt.xticks([0, (tmax/2)/td0, tmax/td0])\n",
    "plt.yticks([-1, -0.5, 0, 0.5, 1])\n",
    "plt.legend(fontsize = label_size)\n",
    "plt.title(r'Two ensembles', fontsize = label_size)\n",
    "\n",
    "plt.show()\n",
    "plt.close()\n",
    "\n",
    "## Second Figure\n",
    "plt.rc('xtick', labelsize = label_size) \n",
    "plt.rc('ytick', labelsize = label_size)\n",
    "fig2 = plt.figure(figsize=(7,4))\n",
    "\n",
    "plt.plot(t/td0, jz1t_gCEi/j1max, '-.k', label = r\"$\\gamma_{\\Downarrow,i}=\\gamma_\\Downarrow$\",\n",
    "         linewidth = lw3)\n",
    "plt.plot(t/td0, jz2t_gCEi/j2max, '-.r', linewidth = lw3)\n",
    "\n",
    "plt.plot(t/td0, jz1t_gD/j1max, ':k', label = r\"$\\gamma_\\phi=\\gamma_\\Downarrow$\", linewidth = lw1)\n",
    "plt.plot(t/td0, jz2t_gD/j2max, ':r',linewidth = lw1)\n",
    "\n",
    "plt.rcParams['text.latex.preamble']=[r\"\\usepackage{xcolor}\"]\n",
    "plt.xlabel(r'$t/t_\\text{D}$', fontsize = label_size)\n",
    "\n",
    "#make double label y-axis - STARTS\n",
    "#label Jz1\n",
    "plt.text(left, center+yshift,r'$\\langle J_{z}^{(1)}(t)\\rangle$,',\n",
    "         horizontalalignment = 'right',\n",
    "         verticalalignment='center',\n",
    "         color = \"k\", rotation='vertical',fontsize = label_size)\n",
    "\n",
    "#label Jz2\n",
    "plt.text(left, center-yshift, r' $\\langle J_{z}^{(2)}(t)\\rangle$',\n",
    "        horizontalalignment='right', verticalalignment='center',\n",
    "         color = \"r\", rotation='vertical',fontsize = label_size)\n",
    "#make double label y-axis - ENDS\n",
    "\n",
    "plt.xticks([0, (tmax/2)/td0, tmax/td0])\n",
    "plt.yticks([-1, -0.5, 0, 0.5, 1])\n",
    "plt.legend(fontsize = label_size)\n",
    "plt.title(r'Two ensembles', fontsize = label_size)\n",
    "plt.show()\n",
    "plt.close()"
   ]
  },
  {
   "cell_type": "markdown",
   "metadata": {},
   "source": [
    "We have studied the dissipative dynamics of two ensembles of TLSs, exploring the possibility of the systems to undergo local dephasing, collective emission of the single ensembles, collective emission of the two ensembles coupled to the same reservoir and local de-excitations. We have found that in the general casse spin exchange between antisymmetrically prepared ensemble is transient [1]. "
   ]
  },
  {
   "cell_type": "markdown",
   "metadata": {},
   "source": [
    "#### References\n",
    "\n",
    "[1] N. Shammah, S. Ahmed, N. Lambert, S. De Liberato, and F. Nori, https://arxiv.org/abs/1805.05129\n",
    "Open quantum systems with local and collective incoherent processes: Efficient numerical simulation using permutational invariance\n",
    "    \n",
    "[2] Y. Hama, W.J. Munro, and K. Nemoto, *Phys. Rev. Lett.* **120**, 060403 (2018)\n",
    "    Relaxation to Negative Temperatures in Double Domain Systems\n",
    "    \n",
    "[3] M. Xu, D.A. Tieri, E.C. Fine, J.K. Thompson, and M.J. Holland, *Phys. Rev. Lett.* **113**, 154101 (2014)\n",
    "    Synchronization of Two Ensembles of Atoms\n",
    "\n",
    "[4] B.A. Chase and J.M Geremia, *Phys. Rev. A* **78**, 052101 (2010)\n",
    "    Collective processes of an ensemble of spin-1/2 particles\n",
    "\n",
    "[5] J.R. Johansson, P.D. Nation, and F. Nori, *Comp. Phys. Comm.* **183**, 1760 (2012) \n",
    "    http://qutip.org"
   ]
  },
  {
   "cell_type": "code",
   "execution_count": 14,
   "metadata": {
    "scrolled": true
   },
   "outputs": [
    {
     "name": "stdout",
     "output_type": "stream",
     "text": [
      "\n",
      "QuTiP: Quantum Toolbox in Python\n",
      "Copyright (c) 2011 and later.\n",
      "A. J. Pitchford, P. D. Nation, R. J. Johansson, A. Grimsmo, and C. Granade\n",
      "\n",
      "QuTiP Version:      4.3.0.dev0+cdc2204a\n",
      "Numpy Version:      1.13.3\n",
      "Scipy Version:      1.0.0\n",
      "Cython Version:     0.27.3\n",
      "Matplotlib Version: 2.1.1\n",
      "Python Version:     3.6.3\n",
      "Number of CPUs:     2\n",
      "BLAS Info:          INTEL MKL\n",
      "OPENMP Installed:   False\n",
      "INTEL MKL Ext:      True\n",
      "Platform Info:      Darwin (x86_64)\n",
      "Installation path:  /Users/nathanshammah/Dropbox/GitHub/qutip/qutip\n",
      "Please cite QuTiP in your publication.\n",
      "For your convenience a bibtex file can be easily generated using `qutip.about.cite()`\n"
     ]
    }
   ],
   "source": [
    "qutip.about()"
   ]
  },
  {
   "cell_type": "code",
   "execution_count": null,
   "metadata": {},
   "outputs": [],
   "source": []
  }
 ],
 "metadata": {
  "kernelspec": {
   "display_name": "Python 3",
   "language": "python",
   "name": "python3"
  },
  "language_info": {
   "codemirror_mode": {
    "name": "ipython",
    "version": 3
   },
   "file_extension": ".py",
   "mimetype": "text/x-python",
   "name": "python",
   "nbconvert_exporter": "python",
   "pygments_lexer": "ipython3",
   "version": "3.6.3"
  }
 },
 "nbformat": 4,
 "nbformat_minor": 2
}
