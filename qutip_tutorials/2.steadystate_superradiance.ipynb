{
 "cells": [
  {
   "cell_type": "markdown",
   "metadata": {},
   "source": [
    "## Steady-state superradiance, lasing and cooperative resonance fluorescence\n",
    "\n",
    "Notebook author: Nathan Shammah (nathan.shammah at gmail.com)\n",
    "\n",
    "\n",
    "We consider a system of $N$ two-level systems (TLSs) with identical frequency $\\omega_{0}$, incoherently pumped at a rate $\\gamma_\\text{P}$ and de-excitating at a collective emission rate $\\gamma_\\text{CE}$,\n",
    "\n",
    "\\begin{eqnarray}\n",
    "\\dot{\\rho} &=&-i\\lbrack \\omega_{0}J_z,\\rho \\rbrack\n",
    "+\\frac{\\gamma_\\text {CE}}{2}\\mathcal{L}_{J_{-}}[\\rho]\n",
    "+\\frac{\\gamma_\\text{P}}{2}\\sum_{n=1}^{N}\\mathcal{L}_{J_{+,n}}[\\rho]\n",
    "\\end{eqnarray}\n",
    "This system can sustain superradiant light emission and line narrowing [1-3],  whose peak intensity scales proportionally to $N^2$.\n",
    "\n",
    "It is then natural to ask the question of whether the system sustains a superradiant light emission steady state also when local losses are included, just like for the transient superfluorescent light emission [4]. We thus study also\n",
    "\\begin{eqnarray}\n",
    "\\dot{\\rho} &=&-i\\lbrack \\omega_{0}J_z,\\rho \\rbrack\n",
    "+\\frac{\\gamma_\\text {CE}}{2}\\mathcal{L}_{J_{-}}[\\rho]\n",
    "+\\sum_{n=1}^{N}\\left(\\frac{\\gamma_\\text{P}}{2}\\mathcal{L}_{J_{+,n}}[\\rho]+\n",
    "\\frac{\\gamma_\\text{E}}{2}\\mathcal{L}_{J_{-,n}}[\\rho]\\right)\n",
    "\\end{eqnarray}\n",
    "and apply the detailed balance condition to the local emission and pumping rates. This study has relevance to the application of superradiance in light-harvesting devices. \n",
    "\n",
    "We will also assess the possibility of coherently driving the system $\\propto J_x$ in the Hamiltonian, which leads to cooperative resonance fluorescence. \n",
    "\n",
    "See Refs. [1-12] for more information. Simulations performed with QuTiP [13] and PIQS [8], imported as $\\texttt{qutip.piqs}$. "
   ]
  },
  {
   "cell_type": "code",
   "execution_count": 1,
   "metadata": {},
   "outputs": [],
   "source": [
    "import matplotlib.pyplot as plt\n",
    "from qutip import *\n",
    "from qutip.piqs import *\n",
    "import numpy as np\n",
    "from scipy import constants"
   ]
  },
  {
   "cell_type": "markdown",
   "metadata": {},
   "source": [
    "## 1) Time evolution\n",
    "\n",
    "We study the system of Eq. (1) by using the $\\texttt{qutip.piqs}$ module to build the Liouvillian of the system. Using QuTiP's $\\texttt{mesolve}()$ we can calculate operators expectation values in time as well as higher order correlation functions. "
   ]
  },
  {
   "cell_type": "markdown",
   "metadata": {},
   "source": [
    "### System properties\n",
    "We initialize an object of the $\\texttt{Dicke}$ class using $\\texttt{qutip.piqs}$. The attributes of this object are used to define the rates of the Liouvillian superoperator. The Hamiltonian is constructed using the $\\texttt{jspin}$ functions in the Dicke basis. The collective and local dissipation rates are defined according to a list of keywords:\n",
    "\n",
    "<table>\n",
    "    <tr>\n",
    "<td> Keyword</td>\n",
    "<td> Rate  $\\gamma_j$</td>\n",
    "<td> Lindbladian $\\mathcal{L}[\\rho]$</td>\n",
    "</tr>\n",
    "\n",
    "<tr>\n",
    "<td> $\\texttt{emission}$ </td>\n",
    "<td> $\\gamma_\\text{E}$</td>\n",
    "<td> \\begin{eqnarray}\\mathcal{L}[\\rho]&=&\\sum_n^N \\left(J_{-,n}\\rho J_{+,n} - \\frac{1}{2}J_{+,n}J_{-,n}\\rho - \\frac{1}{2}\\rho J_{+,n}J_{-,n} \\right)\\end{eqnarray}</td>\n",
    "</tr>\n",
    "\n",
    "<tr>\n",
    "<td> $\\texttt{pumping}$ </td>\n",
    "<td> $\\gamma_\\text{P}$</td>\n",
    "<td> \\begin{eqnarray}\\mathcal{L}[\\rho]&=&\\sum_n^N \\left(J_{+,n}\\rho J_{-,n} - \\frac{1}{2}J_{-,n}J_{+,n}\\rho - \\frac{1}{2}\\rho J_{-,n}J_{+,n} \\right)\\end{eqnarray}</td>\n",
    "</tr>\n",
    "\n",
    "<tr>\n",
    "<td> $\\texttt{dephasing}$ </td>\n",
    "<td> $\\gamma_\\text{D}$</td>\n",
    "<td> \\begin{eqnarray}\\mathcal{L}[\\rho]&=&\\sum_n^N \\left(J_{z,n}\\rho J_{z,n} - \\frac{1}{2}J_{z,n}J_{z,n}\\rho - \\frac{1}{2}\\rho J_{z,n}J_{z,n} \\right)\\end{eqnarray}</td>\n",
    "</tr>\n",
    "\n",
    "<tr>\n",
    "<td> $\\texttt{collective}\\_\\texttt{emission}$ </td>\n",
    "<td> $\\gamma_\\text{CE}$</td>\n",
    "<td> \\begin{eqnarray}\\mathcal{L}[\\rho]&=& J_{-}\\rho J_{+} - \\frac{1}{2}J_{+}J_{-}\\rho - \\frac{1}{2}\\rho J_{+}J_{-} \\end{eqnarray}</td>\n",
    "</tr>\n",
    "\n",
    "<tr>\n",
    "<td> $\\texttt{collective}\\_\\texttt{pumping}$ </td>\n",
    "<td> $\\gamma_\\text{CP}$</td>\n",
    "<td> \\begin{eqnarray}\\mathcal{L}[\\rho]&=&  J_{+}\\rho J_{-} - \\frac{1}{2}J_{-}J_{+}\\rho - \\frac{1}{2}\\rho J_{-}J_{+} \\end{eqnarray}</td>\n",
    "</tr>\n",
    "\n",
    "<tr>\n",
    "<td> $\\texttt{collective}\\_\\texttt{dephasing}$ </td>\n",
    "<td> $\\gamma_\\text{CD}$</td>\n",
    "<td> \\begin{eqnarray}\\mathcal{L}[\\rho]&=& J_{z}\\rho J_{z} - \\frac{1}{2}J_{z}^2\\rho - \\frac{1}{2}\\rho J_{z}^2 \\end{eqnarray}</td>\n",
    "</tr>\n",
    "\n",
    "</table>"
   ]
  },
  {
   "cell_type": "code",
   "execution_count": 2,
   "metadata": {},
   "outputs": [],
   "source": [
    "N = 4\n",
    "system = Dicke(N = N)\n",
    "[jx, jy, jz] = jspin(N)\n",
    "jp = jspin(N, \"+\")\n",
    "jm = jspin(N, \"-\")\n",
    "\n",
    "w0 = 1\n",
    "h0 = w0 * jz\n",
    "gCE = 1\n",
    "gP = N * gCE\n",
    "system.hamiltonian = h0\n",
    "system.collective_emission = gCE\n",
    "system.pumping = gP"
   ]
  },
  {
   "cell_type": "code",
   "execution_count": 3,
   "metadata": {},
   "outputs": [
    {
     "name": "stdout",
     "output_type": "stream",
     "text": [
      "1.23 ms ± 41.7 µs per loop (mean ± std. dev. of 7 runs, 1000 loops each)\n"
     ]
    }
   ],
   "source": [
    "%timeit(system.liouvillian())"
   ]
  },
  {
   "cell_type": "markdown",
   "metadata": {},
   "source": [
    "### Liouvillian and steady state $\\rho_\\text{ss}$"
   ]
  },
  {
   "cell_type": "code",
   "execution_count": 4,
   "metadata": {},
   "outputs": [],
   "source": [
    "L = system.liouvillian()\n",
    "rhoss = steadystate(L)\n",
    "jpjm_ss = expect(jp*jm, rhoss)"
   ]
  },
  {
   "cell_type": "markdown",
   "metadata": {},
   "source": [
    "### Time integration for $g^{(2)}(\\tau)$ and $\\langle J_{+}J_{-}\\rangle (t)$\n",
    "\n",
    "We define the $g^{(2)}(\\tau)$ of the system as the two-time correlation function mapping the photonic degrees of freedom onto the TLS collective operators\n",
    "\n",
    "#### $g^{(2)}(\\tau) = \\frac{\\langle: J^\\dagger(\\tau) a^\\dagger(0) a(\\tau) a(0) :\\rangle}{|\\langle: a^\\dagger(0) a(0) :\\rangle|^2}= \\frac{\\langle: J_{+}(\\tau) J_{+}(0) J_{-}(\\tau) J_{-}(0) :\\rangle}{|\\langle J_{+}(0) J_{-}(0) \\rangle|^2}\\ \\ \\ \\ \\ \\ (2)$.\n",
    "\n",
    "We apply the Quantum Regression Theorem, which allows to calculate two-time correlation functions for two operators $A$ and $B$ from the Liouvillian $\\mathcal{D}$ of the system,\n",
    "\n",
    "$\\langle A(t+\\tau)B(t)\\rangle = \\text{Tr}[Ae^{\\mathcal{D}\\tau}[B\\rho(t)]]=\\text{Tr}[A\\rho_B(\\tau)]$\n",
    "\n",
    "where we introduced $\\rho_B(\\tau)$. In the case of Eq. (2) $A = B = J_{+}J_{-}$."
   ]
  },
  {
   "cell_type": "code",
   "execution_count": 5,
   "metadata": {},
   "outputs": [],
   "source": [
    "# time evolution\n",
    "nt = 1001\n",
    "# superradiant delay time\n",
    "td = np.log(N)/(N*gCE)\n",
    "tmax = 5 * td\n",
    "t = np.linspace(0, tmax, nt)\n",
    "\n",
    "# we initialize the collective TLS state in the ground state, given in terms of a Dicke state\n",
    "rho0 = dicke(N, N/2, -N/2)\n",
    "# we can initialize the collective TLS state in the steady state\n",
    "rho0 = steadystate(L)\n",
    "rhoss = steadystate(L)\n",
    "# We implement the \"quantum regression theorem\"\n",
    "A = jp*jm\n",
    "rhoB = jm*rhoss*jp\n",
    "\n",
    "#g2(tau)\n",
    "result1 = mesolve(L, rhoB, t, [], e_ops = [A], options = Options(store_states=False))\n",
    "g2t = result1.expect[0]\n",
    "#rho(t)\n",
    "result2 = mesolve(L, rho0, t, [], e_ops = A, options = Options(store_states=True))\n",
    "rhot = result2.states\n",
    "jpjmt = result2.expect[0]\n",
    "nphot_ss = expect(jp*jm, rhoss)"
   ]
  },
  {
   "cell_type": "markdown",
   "metadata": {},
   "source": [
    "### Visualization"
   ]
  },
  {
   "cell_type": "code",
   "execution_count": 6,
   "metadata": {},
   "outputs": [
    {
     "data": {
      "image/png": "[encoded data removed]",
      "text/plain": [
       "<matplotlib.figure.Figure at 0x10fc9c470>"
      ]
     },
     "metadata": {},
     "output_type": "display_data"
    },
    {
     "data": {
      "image/png": "[encoded data removed]",
      "text/plain": [
       "<matplotlib.figure.Figure at 0x10438c518>"
      ]
     },
     "metadata": {},
     "output_type": "display_data"
    }
   ],
   "source": [
    "j2max = (0.5 * N + 1) * (0.5 * N)\n",
    "label_size = 20\n",
    "plt.rc('text', usetex = True)\n",
    "plt.rc('xtick', labelsize=label_size) \n",
    "plt.rc('ytick', labelsize=label_size)\n",
    "\n",
    "fig1 = plt.figure()\n",
    "plt.plot(t/td, g2t/nphot_ss**2, '-')\n",
    "plt.plot(t/td, 1+0*g2t, '--')\n",
    "plt.xlabel(r'$\\tau/t_\\text{D}$', fontsize = label_size)\n",
    "plt.ylabel(r'$g^{(2)}(\\tau)$', fontsize = label_size)\n",
    "plt.title(r'Second-order coherence function', fontsize = label_size)\n",
    "plt.xticks([0,(tmax/2)/td,tmax/td])\n",
    "plt.show()\n",
    "plt.close()\n",
    "\n",
    "\n",
    "fig1 = plt.figure()\n",
    "plt.plot(t/td, jpjmt/j2max, '-')\n",
    "plt.xlabel(r'$t/t_\\text{D}$', fontsize = label_size)\n",
    "plt.ylabel(r\"$\\langle J_{+}J_{-}\\rangle (t)$\", fontsize = label_size)\n",
    "plt.xticks([0,(tmax/2)/td,tmax/td])\n",
    "plt.ylim([0,1])\n",
    "plt.rc('xtick', labelsize=label_size) \n",
    "plt.rc('ytick', labelsize=label_size)\n",
    "plt.title(r\"Light emission in units of $\\frac{N}{2}(\\frac{N}{2}+1)$\", fontsize = label_size)\n",
    "plt.show()\n",
    "plt.close()"
   ]
  },
  {
   "cell_type": "markdown",
   "metadata": {},
   "source": [
    "## 2) Maximum of light emission as a function of  $\\frac{\\gamma_\\text{P}}{N\\gamma_\\text{CE}}$\n",
    "\n",
    "We perform a study of the scaling of the steady state light emission of the system as a function of the pumping rate, normalized by the number of TLSs and the collective emission rate. The results show an optimal point for $\\frac{\\gamma_\\text{P}}{N\\gamma_\\text{CE}}\\simeq 1$ [4,5]. "
   ]
  },
  {
   "cell_type": "code",
   "execution_count": 7,
   "metadata": {},
   "outputs": [],
   "source": [
    "# Cycle on Coefficients\n",
    "gCE = 1\n",
    "gP0 = 1\n",
    "gP_min_exp = -20\n",
    "gP_max_exp = 20\n",
    "gP_stepsize = 0.5\n",
    "gP_list = np.arange(gP_min_exp, gP_max_exp+1, gP_stepsize)*0.1\n",
    "gP_list_log = 10**(gP_list)\n",
    "\n",
    "jpjmss_max_list = []\n",
    "for i in gP_list_log:\n",
    "    gP = i*gP0\n",
    "    system = Dicke(hamiltonian = jz, N = N, pumping = gP, collective_emission = gCE)\n",
    "    liouv = system.liouvillian()\n",
    "    #steadystate\n",
    "    rho_ss = steadystate(liouv)\n",
    "    jpjm_ss = expect(jp*jm, rho_ss)\n",
    "    jpjmss_max_list.append(jpjm_ss)"
   ]
  },
  {
   "cell_type": "markdown",
   "metadata": {},
   "source": [
    "#### Visualization\n",
    "We use the notation $\\gamma_\\uparrow=\\gamma_\\text{P}$ and $\\gamma_\\Downarrow=\\gamma_\\text{CE}$."
   ]
  },
  {
   "cell_type": "code",
   "execution_count": 8,
   "metadata": {},
   "outputs": [
    {
     "data": {
      "image/png": "[encoded data removed]",
      "text/plain": [
       "<matplotlib.figure.Figure at 0x10fe39710>"
      ]
     },
     "metadata": {},
     "output_type": "display_data"
    }
   ],
   "source": [
    "intensity_max = float(N)*gCE/2*(float(N)*gCE/2+1)\n",
    "normalized_intensity = np.array(jpjmss_max_list)/intensity_max\n",
    "plt.semilogx(gP_list_log/(gCE*N), normalized_intensity, '-')\n",
    "label_size = 20\n",
    "plt.rc('text', usetex = True)\n",
    "plt.rc('xtick', labelsize=label_size) \n",
    "plt.rc('ytick', labelsize=label_size)\n",
    "plt.xlabel(r'${\\gamma_\\uparrow}/\\left({N\\gamma_\\Downarrow}\\right)$', fontsize = label_size)\n",
    "plt.ylabel(r'$\\langle J_{+}J_{-}\\rangle_\\mathrm{ss}$', fontsize = label_size)\n",
    "fname = 'figures/sssr_maxjpjm{}.pdf'.format(N)\n",
    "plt.title(r'Steady-state light emission', fontsize = label_size)\n",
    "plt.show()\n",
    "\n",
    "plt.close()"
   ]
  },
  {
   "cell_type": "markdown",
   "metadata": {},
   "source": [
    "### Emission spectrum"
   ]
  },
  {
   "cell_type": "markdown",
   "metadata": {},
   "source": [
    "#### Single TLS case: Mollow triplet in the resonance fluorescence spectrum, no cooperative effects"
   ]
  },
  {
   "cell_type": "code",
   "execution_count": 9,
   "metadata": {},
   "outputs": [
    {
     "data": {
      "image/png": "[encoded data removed]",
      "text/plain": [
       "<matplotlib.figure.Figure at 0x10ff58518>"
      ]
     },
     "metadata": {},
     "output_type": "display_data"
    }
   ],
   "source": [
    "wz = 1\n",
    "om = 5\n",
    "gamm = 2\n",
    "H = wz * sigmaz() + om * sigmax()\n",
    "c_ops = [np.sqrt(gamm)*sigmam()]\n",
    "a_op = sigmap()\n",
    "b_op = sigmam()\n",
    "wmin = - 20\n",
    "wmax = 20\n",
    "nw = 1000\n",
    "wlist = np.linspace(wmin, wmax, nw)\n",
    "liouv_TLS = liouvillian(H,c_ops)\n",
    "sw = spectrum(liouv_TLS, wlist, [], a_op, b_op, solver=\"es\", use_pinv=False)\n",
    "\n",
    "smax = np.max(sw)\n",
    "lw = 2\n",
    "plt.plot(wlist, sw/smax, '-r', linewidth = 2*lw)\n",
    "label_size = 20\n",
    "plt.rc('text', usetex = True)\n",
    "plt.rc('xtick', labelsize=label_size) \n",
    "plt.rc('ytick', labelsize=label_size)\n",
    "plt.xlabel(r'$\\Delta\\omega$', fontsize = label_size)\n",
    "plt.ylabel(r'$S(\\Delta\\omega)$', fontsize = label_size)\n",
    "plt.title(r'Spectrum', fontsize = label_size)\n",
    "plt.show()\n",
    "plt.close()"
   ]
  },
  {
   "cell_type": "code",
   "execution_count": 10,
   "metadata": {},
   "outputs": [
    {
     "data": {
      "image/png": "[encoded data removed]",
      "text/plain": [
       "<matplotlib.figure.Figure at 0x10ff526d8>"
      ]
     },
     "metadata": {},
     "output_type": "display_data"
    }
   ],
   "source": [
    "rhoss_TLS = steadystate(liouv_TLS)\n",
    "B = sigmap() * sigmam()\n",
    "jpjm_ss = expect(B, rhoss_TLS)\n",
    "rhoB = sigmam() * rhoss_TLS * sigmap()\n",
    "#Excited\n",
    "t = np.linspace(0, 2, 1000)\n",
    "options = Options(nsteps = 10000, atol = 1e-6)\n",
    "result3 = mesolve(liouv_TLS, rhoB, t, [], e_ops = B, options = Options(store_states=True))\n",
    "g2t = result3.expect[0]\n",
    "\n",
    "taulist = t#np.linspace(0, 20, 100)\n",
    "nphot_ss = expect(sigmap()*sigmam(), rhoss_TLS)\n",
    "plt.plot(t, np.real(g2t)/nphot_ss**2, '-', linewidth = lw, label = r\"$\\mathrm{Re}[g^2(\\tau)]$\")\n",
    "plt.plot(t, np.imag(g2t)/nphot_ss**2, '-o', linewidth = lw, label = r\"$\\mathrm{Im}[g^2(\\tau)]$\")\n",
    "plt.plot(t, 1 +0*t , '--', linewidth = lw)\n",
    "label_size = 20\n",
    "plt.rc('text', usetex = True)\n",
    "plt.rc('xtick', labelsize=label_size) \n",
    "plt.rc('ytick', labelsize=label_size)\n",
    "plt.xlabel(r'$\\tau$', fontsize = label_size)\n",
    "plt.ylabel(r'$g^{2}(\\tau)$', fontsize = label_size)\n",
    "plt.title(r'Correlation function', fontsize = label_size)\n",
    "plt.legend(fontsize = label_size*0.8)\n",
    "plt.show()\n",
    "plt.close() "
   ]
  },
  {
   "cell_type": "markdown",
   "metadata": {},
   "source": [
    "#### $N>1$: Steady-state superradiance, cooperative resonance fluorescence\n",
    "\n",
    "Here we study the first-order and second-order correlation functions and the spectrum (using the quantum regression formula) of the coherently driven system of $N\\gg1$ two-level systems that can also emit cooperatively [1]. "
   ]
  },
  {
   "cell_type": "code",
   "execution_count": 11,
   "metadata": {},
   "outputs": [
    {
     "name": "stdout",
     "output_type": "stream",
     "text": [
      "N = 10\n",
      "Hilbert space dim = (36, 36)\n",
      "Number of Dicke states = 36\n",
      "Liouvillian space dim = (1296, 1296)\n",
      "pumping = 5.0\n",
      "collective_emission = 1.0\n",
      "ok\n",
      "ok 2\n",
      "ok 3\n",
      "ok 4\n"
     ]
    }
   ],
   "source": [
    "N = 10\n",
    "[jx, jy, jz] = jspin(N)\n",
    "jp = jspin(N, \"+\")\n",
    "jm = jp.dag()\n",
    "\n",
    "w0 = 20\n",
    "g = 0\n",
    "h0 = w0 * jz + g * jx \n",
    "gCE = 1.0\n",
    "gD = .0\n",
    "gP = N/2 * gCE\n",
    "n_therm = 1\n",
    "\n",
    "gE_list = [0, gP*(1+n_therm)]\n",
    "system = Dicke(N = N)\n",
    "gE = 0\n",
    "\n",
    "system.hamiltonian = h0\n",
    "system.collective_emission = gCE\n",
    "system.emission = gE\n",
    "system.pumping = gP\n",
    "system.dephasing = gD\n",
    "L = system.liouvillian()\n",
    "rhoss = steadystate(L)\n",
    "print(system)\n",
    "td = np.log(N)/(N*gCE)\n",
    "tmax = 100 * td\n",
    "t = np.linspace(0, tmax, 2000)\n",
    "dw = 10\n",
    "wmin = w0 - dw\n",
    "wmax = w0 + dw\n",
    "nw = 100\n",
    "wlist = np.linspace(wmin, wmax, nw)\n",
    "lw = 3\n",
    "#1\n",
    "g2_norm, G2 = coherence_function_g2(L, None, t, [], jm, solver=\"me\", args={},\n",
    "                          options=Options(ntraj=[20, 100]))\n",
    "\n",
    "g1_norm, G1 = coherence_function_g1(L, None, t, [], jm, solver=\"me\", args={},\n",
    "                          options=Options(ntraj=[20, 100]))\n",
    "\n",
    "print(\"ok\")\n",
    "#swss = spectrum(L, wlist, [], jp, jm)\n",
    "wlist, swss = spectrum_correlation_fft(t, g1_norm)\n",
    "\n",
    "print(\"ok 2\")\n",
    "#2\n",
    "g2_ss = correlation_2op_1t(L, rhoss, t, [], jp, jm)\n",
    "#3\n",
    "rho0 = dicke(N, N/2, -N/2)\n",
    "#g2(tau)\n",
    "rhoB = jm*rhoss*jp\n",
    "result1 = mesolve(L, rhoB, t, [], e_ops = [jp*jm], options = Options(store_states=True))\n",
    "print(\"ok 3\")\n",
    "g2t = result1.expect[0]\n",
    "result2 = mesolve(L, rho0, t, [], e_ops = jp*jm, options = Options(store_states=True))\n",
    "print(\"ok 4\")\n",
    "rhot = result2.states\n",
    "jpjmt = result2.expect[0]\n",
    "#g2t nat\n",
    "Bn = jp * jm\n",
    "jpjm_ss = expect(Bn, rhoss)\n",
    "rhoBn = Bn * rhoss\n"
   ]
  },
  {
   "cell_type": "code",
   "execution_count": 12,
   "metadata": {},
   "outputs": [
    {
     "data": {
      "image/png": "[encoded data removed]",
      "text/plain": [
       "<matplotlib.figure.Figure at 0x109b1c9e8>"
      ]
     },
     "metadata": {},
     "output_type": "display_data"
    },
    {
     "data": {
      "image/png": "[encoded data removed]",
      "text/plain": [
       "<matplotlib.figure.Figure at 0x109b174e0>"
      ]
     },
     "metadata": {},
     "output_type": "display_data"
    },
    {
     "data": {
      "image/png": "[encoded data removed]",
      "text/plain": [
       "<matplotlib.figure.Figure at 0x10fbbbef0>"
      ]
     },
     "metadata": {},
     "output_type": "display_data"
    }
   ],
   "source": [
    "#1 Plot - Spectrum in frequency\n",
    "plt.plot(wlist, swss, 'o-', linewidth = lw)\n",
    "label_size = 20\n",
    "plt.rc('text', usetex = True)\n",
    "plt.rc('xtick', labelsize = label_size) \n",
    "plt.rc('ytick', labelsize = label_size)\n",
    "plt.xlabel(r'$\\Delta\\omega$', fontsize = label_size)\n",
    "plt.ylabel(r'$S(\\Delta\\omega)$', fontsize = label_size)\n",
    "plt.title(r'Spectrum', fontsize = label_size)\n",
    "plt.xlim([w0-10,w0+10])\n",
    "\n",
    "plt.show()\n",
    "plt.close()\n",
    "\n",
    "#2 Plot \n",
    "j2max = (0.5 * N + 1) * (0.5 * N)\n",
    "\n",
    "plt.rc('text', usetex = True)\n",
    "\n",
    "fig1 = plt.figure()\n",
    "plt.plot(t/td, np.real(g2t)/jpjm_ss**2, '-')\n",
    "plt.plot(t/td, np.real(g2_norm), '--r')\n",
    "plt.plot(t/td, np.real(g1_norm), '--b')\n",
    "plt.plot(t/td, 1+np.imag(g2_norm), 'ro')\n",
    "plt.plot(t/td, 1+np.imag(g2t), '-k')\n",
    "\n",
    "plt.plot(t/td, 1+0*t, '-.')\n",
    "plt.xlabel(r'$\\tau/t_\\text{D}$', fontsize = label_size)\n",
    "plt.ylabel(r'$g^{(1,2)}(\\tau)$', fontsize = label_size)\n",
    "plt.title(r'First and Second Coherence', fontsize = label_size)\n",
    "plt.xticks([0,(tmax/2)/td,tmax/td])\n",
    "plt.rc('xtick', labelsize=label_size) \n",
    "plt.rc('ytick', labelsize=label_size)\n",
    "plt.show()\n",
    "plt.close()\n",
    "\n",
    "#3 Plot Light emission as a function of time\n",
    "fig1 = plt.figure()\n",
    "plt.plot(t/td, jpjmt/j2max, '-')\n",
    "plt.plot(t/td, 0*t+0.5, '-')\n",
    "plt.xlabel(r'$t/t_\\text{D}$', fontsize = label_size)\n",
    "plt.ylabel(r'$\\langle J_{+}J_{-}\\rangle (t)$', fontsize = label_size)\n",
    "plt.xticks([0,(tmax/2)/td,tmax/td])\n",
    "plt.title(r'Light emission', fontsize = label_size)\n",
    "plt.rc('xtick', labelsize=label_size) \n",
    "plt.rc('ytick', labelsize=label_size)\n",
    "#plt.ylim([0,N])\n",
    "plt.show()\n",
    "plt.close()"
   ]
  },
  {
   "cell_type": "code",
   "execution_count": 13,
   "metadata": {},
   "outputs": [
    {
     "name": "stdout",
     "output_type": "stream",
     "text": [
      "occupation number, n0 =  13091.5295848\n",
      "15.0\n",
      "5.0\n"
     ]
    }
   ],
   "source": [
    "## general formual for detailed balance (not used below, giving here a qualitative estimate)\n",
    "# Bose-Einstein distribution determines the occupation number\n",
    "frequency_hertz = 10**(13)\n",
    "temperature_kelvin = 10**(6)\n",
    "x = (frequency_hertz / temperature_kelvin) * (constants.hbar / constants.Boltzmann)\n",
    "n0 = 1/(np.exp(x) -1)\n",
    "print(\"occupation number, n0 = \",n0)\n",
    "\n",
    "# set collective pumping and collective emission rates (coupled ensembles) \n",
    "g0 = 10\n",
    "n0 = gP / g0 \n",
    "gE = g0 * (1 + n0)\n",
    "print(gE)\n",
    "print(gP)"
   ]
  },
  {
   "cell_type": "markdown",
   "metadata": {},
   "source": [
    "### Steady-state superradiance under incoherent local pumping and collective and local losses\n",
    "\n",
    "Below we study steady state superradiant light emission and lasing under incoherent local pumping. We introduce local losses to study the possibility of superradiant effects under thermal excitation (in the high-temperature limit)."
   ]
  },
  {
   "cell_type": "code",
   "execution_count": 14,
   "metadata": {},
   "outputs": [
    {
     "name": "stdout",
     "output_type": "stream",
     "text": [
      "[ 10.  20.  30.  40.]\n"
     ]
    }
   ],
   "source": [
    "# Do two nested cycles to calculate the dependency of the maximum superradiance peak on the pump rate\n",
    "\n",
    "# compare the case of no loss (noloss) to the thermal case with detailed balance\n",
    "#ntls list\n",
    "ntls_list = np.linspace(10,40,4)\n",
    "print(ntls_list)\n",
    "#Coefficients\n",
    "gCE = 1\n",
    "gP0 = 1\n",
    "gP_min_exp = -20\n",
    "gP_max_exp = 20\n",
    "gP_stepsize = 0.5\n",
    "gP_list = np.arange(gP_min_exp, gP_max_exp+1, gP_stepsize)*0.1\n",
    "gP_list_log = 10**(gP_list)\n",
    "gP_gCE_N_list_log= 10**(gP_list)\n",
    "max_nn_list = []\n",
    "argmax_nn_list = []\n",
    "normalized_intensity_list = []\n",
    "max_nn_list_noloss = []\n",
    "argmax_nn_list_noloss = []\n",
    "normalized_intensity_list_noloss = []\n",
    "lw_i = 0.5"
   ]
  },
  {
   "cell_type": "code",
   "execution_count": 15,
   "metadata": {},
   "outputs": [
    {
     "name": "stdout",
     "output_type": "stream",
     "text": [
      "10\n",
      "20\n",
      "30\n",
      "40\n"
     ]
    }
   ],
   "source": [
    "# Do two nested cycles to calculate the dependency of the maximum superradiance peak on the pump rate\n",
    "for nn in ntls_list:\n",
    "    lw_i = lw_i + 0.5\n",
    "    jpjm_max_list = []\n",
    "    jpjm_max_arg_list = []\n",
    "    jpjmss_max_list = []\n",
    "    jpjm_max_list_noloss = []\n",
    "    jpjm_max_arg_list_noloss = []\n",
    "    jpjmss_max_list_noloss = []    \n",
    "    N = int(nn)\n",
    "    print(N)\n",
    "    ntls = N\n",
    "    jmax = (0.5 * N)\n",
    "    j2max = (0.5 * N + 1) * (0.5 * N)\n",
    "    intensity_max = float(N)*gCE/2*(float(N)*gCE/2+1)\n",
    "    [jx, jy, jz] = jspin(N)\n",
    "    jp = jspin(N, \"+\")\n",
    "    jm = jp.dag()\n",
    "    jpjm = jp*jm\n",
    "    #time\n",
    "    for i in gP_gCE_N_list_log:\n",
    "        gP_gCE_N = i*gP0\n",
    "        gP = gP_gCE_N*(gCE*N)\n",
    "        gE = gP # fix the high temperature limit\n",
    "        td0 = np.log(N)/(N*gCE)\n",
    "        h = jz\n",
    "        system = Dicke(hamiltonian = h, N = N, pumping = gP, \n",
    "                       collective_emission = gCE, emission = gE)\n",
    "        system_noloss = Dicke(hamiltonian = h, N = N, pumping = gP, \n",
    "                              collective_emission = gCE, emission = 0.0*gE)\n",
    "        liouv = system.liouvillian()\n",
    "        liouv_noloss = system_noloss.liouvillian()\n",
    "        #steadystate with loss\n",
    "        rho_ss = steadystate(liouv)\n",
    "        jpjm_ss = expect(jpjm, rho_ss)\n",
    "        jpjmss_max_list.append(jpjm_ss)\n",
    "        #steadystate no loss\n",
    "        rho_ss_noloss = steadystate(liouv_noloss)\n",
    "        jpjm_ss_noloss = expect(jpjm, rho_ss_noloss)\n",
    "        jpjmss_max_list_noloss.append(jpjm_ss_noloss)\n",
    "        #print(\"N=\", N,\" gP/(N*gCE)=\", gP/(N*gCE) )\n",
    "    # emitted light with loss\n",
    "    normalized_intensity = np.array(jpjmss_max_list)/intensity_max\n",
    "    normalized_intensity_list.append(normalized_intensity) \n",
    "    argmax_nn = np.argmax(normalized_intensity)\n",
    "    max_nn = np.max(normalized_intensity)\n",
    "    max_nn_list.append(max_nn)\n",
    "    argmax_nn_list.append(gP_list_log[argmax_nn])\n",
    "    # emitted light no loss\n",
    "    normalized_intensity_noloss = np.array(jpjmss_max_list_noloss)/intensity_max\n",
    "    normalized_intensity_list_noloss.append(normalized_intensity_noloss) \n",
    "    argmax_nn_noloss = np.argmax(normalized_intensity_noloss)\n",
    "    max_nn_noloss = np.max(normalized_intensity_noloss)\n",
    "    max_nn_list_noloss.append(max_nn_noloss)\n",
    "    argmax_nn_list_noloss.append(gP_list_log[argmax_nn_noloss])"
   ]
  },
  {
   "cell_type": "code",
   "execution_count": 16,
   "metadata": {},
   "outputs": [
    {
     "data": {
      "image/png": "[encoded data removed]",
      "text/plain": [
       "<matplotlib.figure.Figure at 0x10fc6af98>"
      ]
     },
     "metadata": {},
     "output_type": "display_data"
    }
   ],
   "source": [
    "label_size = 20\n",
    "label_size2 = 20\n",
    "label_size3 = 20\n",
    "\n",
    "plt.rc('text', usetex = True)\n",
    "plt.rc('xtick', labelsize=label_size) \n",
    "plt.rc('ytick', labelsize=label_size)\n",
    "\n",
    "fig1 = plt.figure(1)\n",
    "lw_i = 0.9\n",
    "for i in range(0,len(normalized_intensity_list)):\n",
    "    \n",
    "    #cycle for all N values\n",
    "    \n",
    "    lw_i = lw_i + 0.4*i\n",
    "    plt.semilogx(gP_gCE_N_list_log, normalized_intensity_list_noloss[i], 'k-',\n",
    "                 lw = lw_i)\n",
    "    plt.semilogx(gP_gCE_N_list_log, normalized_intensity_list[i], 'r--', lw = lw_i)\n",
    "    \n",
    "    # have legend with mid-sized line\n",
    "    \n",
    "    if i == len(normalized_intensity_list) -2:\n",
    "        \n",
    "        plt.semilogx(gP_gCE_N_list_log, normalized_intensity_list_noloss[i], 'k-',\n",
    "                 lw = lw_i, label=r\"$\\gamma_\\downarrow=0$\")\n",
    "        plt.semilogx(gP_gCE_N_list_log, normalized_intensity_list[i], 'r--', lw = lw_i,\n",
    "                 label=r\"$\\gamma_\\downarrow=\\gamma_\\uparrow$\")\n",
    "\n",
    "plt.xlabel(r'${\\gamma_\\uparrow}/\\left({N\\gamma_\\Downarrow}\\right)$', fontsize = label_size3)\n",
    "plt.ylabel(r'$\\langle J_{+}J_{-}\\rangle_\\mathrm{ss}/I_\\mathrm{max}$', fontsize = label_size3)\n",
    "plt.ylim([0,0.7])\n",
    "plt.legend(fontsize = label_size2*0.8)\n",
    "plt.title(r'Steady-state light emission', fontsize = label_size2)\n",
    "plt.show()\n",
    "plt.close()"
   ]
  },
  {
   "cell_type": "markdown",
   "metadata": {},
   "source": [
    "The plot above shows that there is a critical pumping rate when the system is pumped incoherently and dissipates only collectively (black solid curves), a result obtained in Ref. [4], D. Meiser and M.J. Holland, *Steady-state superradiance with alkaline-earth-metal atoms*, *Phys. Rev. A* **81**, 033847 (2010), and here reproduced using $\\texttt{qutip.piqs}$. \n",
    "\n",
    "The plot also show the scaling with $N$ (thinner to thicker curves as $N$ grows from 10 to 40) [8]. \n",
    "\n",
    "The red dashed curves show that the critical pumping is not observed is if the system is allowed to dissipate also incoherently and locally, at a rate set by detailed balance. This condition is set in the most favourable case of high temperature, for which the effect of local losses should be less prominent with respect to the collectively enhanced losses. This condition is particularly relevant for superradiantly-enhanced quantum heat engines and toy models of quantum-enhanced bio-inspired light harvesting mechanisms [8]. "
   ]
  },
  {
   "cell_type": "markdown",
   "metadata": {},
   "source": [
    "#### References\n",
    "\n",
    "[1] R. Bonifacio and L.A. Lugiato, Cooperative effects and bistability for resonance fluorescence, *Opt. Comm.* **19**, 172 (1976)\n",
    "\n",
    "[2] F. Haake, M. I. Kolobov, C. Fabre, E. Giacobino, and S. Reynaud,  Superradiant laser, *Phys. Rev. Lett.* **71**, 995 (1993)\n",
    "\n",
    "[3] F. Haake, M. I. Kolobov, C. Seeger, C. Fabre, E. Giacobino, and S. Reynaud, *Phys. Rev. A* **54**, 1625 (1996)\n",
    "\n",
    "[4] D. Meiser and M.J. Holland, Steady-state superradiance with alkaline-earth-metal atoms, *Phys. Rev. A* **81**, 033847 (2010)\n",
    "\n",
    "[5] D. Meiser and M.J. Holland, Intensity fluctuations in steady-state superradiance, *Phys. Rev. A* **81**, 063827 (2010)\n",
    "\n",
    "[6] J.G. Bohnet *et al.*, A steady-state superradiant laser with less than one intracavity photon, *Nature* **484**, 78 (2012)\n",
    "\n",
    "[7]  N. Shammah, N. Lambert, F. Nori, and S. De Liberato,  Superradiance with local phase-breaking effects, *Phys. Rev. A* **96**, 023863 (2017)\n",
    "\n",
    "[8] N. Shammah, S. Ahmed, N. Lambert, S. De Liberato, and F. Nori, \n",
    "Open quantum systems with local and collective incoherent processes: Efficient numerical simulation using permutational invariance https://arxiv.org/abs/1805.05129\n",
    "\n",
    "[9] M. A. Norcia, R. J. Lewis-Swan, J. R. Cline, B. Zhu, A. M. Rey, and J. K. Thompson, Cavity Mediated Collective Spin Exchange Interactions in a Strontium Superradiant Laser, arXiv:1711.03673 (2017)\n",
    "\n",
    "[10] D. A. Tieri, M. Xu, D. Meiser, J. Cooper, and M. J. Holland, Theory of the crossover from lasing to steady state superradiance, arXiv:1702.04830 (2017)\n",
    "\n",
    "[11] P. Kirton and J. Keeling, Superradiant and lasing states in driven-dissipative Dicke models, *New J. Phys.* **20**, 015009 (2018).\n",
    "\n",
    "[12] P. Kirton, M. M. Roses, J. Keeling, and E. G. Dalla Torre, Introduction to the Dicke model: from equilibrium to nonequilibrium, and vice versa, arXiv:1805.09828 (2018)\n",
    "\n",
    "[13] J.R. Johansson, P.D. Nation, and F. Nori, *Comp. Phys. Comm.* **183**, 1760 (2012) http://qutip.org\n"
   ]
  },
  {
   "cell_type": "code",
   "execution_count": 17,
   "metadata": {
    "scrolled": true
   },
   "outputs": [
    {
     "name": "stdout",
     "output_type": "stream",
     "text": [
      "\n",
      "QuTiP: Quantum Toolbox in Python\n",
      "Copyright (c) 2011 and later.\n",
      "A. J. Pitchford, P. D. Nation, R. J. Johansson, A. Grimsmo, and C. Granade\n",
      "\n",
      "QuTiP Version:      4.3.0\n",
      "Numpy Version:      1.13.3\n",
      "Scipy Version:      1.0.0\n",
      "Cython Version:     0.27.3\n",
      "Matplotlib Version: 2.1.1\n",
      "Python Version:     3.6.3\n",
      "Number of CPUs:     2\n",
      "BLAS Info:          INTEL MKL\n",
      "OPENMP Installed:   False\n",
      "INTEL MKL Ext:      True\n",
      "Platform Info:      Darwin (x86_64)\n",
      "Installation path:  /Users/nathanshammah/Downloads/Applications/lib/python3.6/site-packages/qutip\n",
      "==============================================================================\n",
      "Please cite QuTiP in your publication.\n",
      "==============================================================================\n",
      "For your convenience a bibtex file can be easily generated using `qutip.cite()`\n"
     ]
    }
   ],
   "source": [
    "qutip.about()"
   ]
  }
 ],
 "metadata": {
  "kernelspec": {
   "display_name": "Python 3",
   "language": "python",
   "name": "python3"
  },
  "language_info": {
   "codemirror_mode": {
    "name": "ipython",
    "version": 3
   },
   "file_extension": ".py",
   "mimetype": "text/x-python",
   "name": "python",
   "nbconvert_exporter": "python",
   "pygments_lexer": "ipython3",
   "version": "3.6.3"
  }
 },
 "nbformat": 4,
 "nbformat_minor": 2
}
